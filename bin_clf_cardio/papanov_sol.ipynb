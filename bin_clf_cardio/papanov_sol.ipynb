{
 "cells": [
  {
   "cell_type": "code",
   "execution_count": 3,
   "metadata": {},
   "outputs": [],
   "source": [
    "import pandas as pd\n",
    "import numpy as np\n",
    "from lightgbm import LGBMClassifier"
   ]
  },
  {
   "cell_type": "code",
   "execution_count": 11,
   "metadata": {},
   "outputs": [],
   "source": [
    "%matplotlib inline"
   ]
  },
  {
   "cell_type": "code",
   "execution_count": 12,
   "metadata": {},
   "outputs": [],
   "source": [
    "import matplotlib.pyplot as plt"
   ]
  },
  {
   "cell_type": "code",
   "execution_count": 177,
   "metadata": {},
   "outputs": [],
   "source": [
    "from sklearn.model_selection import (\n",
    "    train_test_split,\n",
    "    cross_val_score, \n",
    "    cross_validate, \n",
    "    StratifiedKFold\n",
    ")\n",
    "from sklearn.metrics import make_scorer, roc_auc_score\n",
    "import optuna"
   ]
  },
  {
   "cell_type": "markdown",
   "metadata": {},
   "source": [
    "# Helper functions"
   ]
  },
  {
   "cell_type": "markdown",
   "metadata": {},
   "source": [
    "### Pipeline"
   ]
  },
  {
   "cell_type": "code",
   "execution_count": 44,
   "metadata": {},
   "outputs": [],
   "source": [
    "class Transformer:\n",
    "    def __init__(self, fn, *args, **kwargs):\n",
    "        self.fn = fn\n",
    "        self.args = args\n",
    "        self.kwargs = kwargs\n",
    "    \n",
    "    def apply(self, x):\n",
    "        return self.fn(x, *self.args, **self.kwargs)\n",
    "\n",
    "class TransformerPipeline:\n",
    "    def __init__(self, stages):\n",
    "        self.stages = stages\n",
    "    \n",
    "    def apply(self, x):\n",
    "        res = x\n",
    "        for stage in self.stages:\n",
    "            res = stage.apply(res)\n",
    "        return res"
   ]
  },
  {
   "cell_type": "markdown",
   "metadata": {},
   "source": [
    "### Pandas"
   ]
  },
  {
   "cell_type": "code",
   "execution_count": 39,
   "metadata": {},
   "outputs": [],
   "source": [
    "def pd_withcolumn(df, col, vals):\n",
    "    new_df = df.copy()\n",
    "    new_df[col] = vals\n",
    "    return new_df"
   ]
  },
  {
   "cell_type": "markdown",
   "metadata": {},
   "source": [
    "### Plotting"
   ]
  },
  {
   "cell_type": "code",
   "execution_count": 17,
   "metadata": {},
   "outputs": [],
   "source": [
    "def plot_kde_for_binary_clf(X, y, n_cols, figsize):\n",
    "    feats = list(X.columns)\n",
    "    n_rows = int(np.ceil(len(feats) / n_cols))\n",
    "    fig, axs = plt.subplots(ncols=n_cols, nrows=n_rows, figsize=figsize, squeeze=True)\n",
    "    fig.suptitle('KDE for features', fontsize=16)\n",
    "    for (i, col) in enumerate(feats):\n",
    "        ax = axs[i // n_cols][i % n_cols]\n",
    "        ax.set_title(col)\n",
    "        X[col][y==0].plot.kde(label='Class 0', ax=ax)\n",
    "        X[col][y==1].plot.kde(label='Class 1', ax=ax)\n",
    "        ax.legend()"
   ]
  },
  {
   "cell_type": "code",
   "execution_count": 21,
   "metadata": {},
   "outputs": [],
   "source": [
    "def plot_hist_for_binary_clf(X, y, n_cols, figsize):\n",
    "    feats = list(X.columns)\n",
    "    n_rows = int(np.ceil(len(feats) / n_cols))\n",
    "    fig, axs = plt.subplots(ncols=n_cols, nrows=n_rows, figsize=figsize, squeeze=True)\n",
    "    for (i, col) in enumerate(feats):\n",
    "        d = np.diff(np.unique(X[col])).min()\n",
    "        l = X[col].min() - float(d)/2\n",
    "        r = X[col].max() + float(d)/2\n",
    "        ax = axs[i // n_cols][i % n_cols]\n",
    "        ax.set_title(col)\n",
    "        ax.hist(X.loc[y==0, col], bins=np.arange(l, r + d, d), alpha=0.5, density=True, label='Class 0')\n",
    "        ax.hist(X.loc[y==1, col], bins=np.arange(l, r + d, d), alpha=0.5, density=True, label='Class 1')\n",
    "        ax.legend()"
   ]
  },
  {
   "cell_type": "markdown",
   "metadata": {},
   "source": [
    "# Load and explore data"
   ]
  },
  {
   "cell_type": "code",
   "execution_count": 29,
   "metadata": {},
   "outputs": [],
   "source": [
    "df_full = pd.read_csv('./data/train.csv')"
   ]
  },
  {
   "cell_type": "code",
   "execution_count": 30,
   "metadata": {},
   "outputs": [
    {
     "data": {
      "text/plain": [
       "(70000, 13)"
      ]
     },
     "execution_count": 30,
     "metadata": {},
     "output_type": "execute_result"
    }
   ],
   "source": [
    "df_full.shape"
   ]
  },
  {
   "cell_type": "code",
   "execution_count": 31,
   "metadata": {},
   "outputs": [
    {
     "data": {
      "text/html": [
       "<div>\n",
       "<style scoped>\n",
       "    .dataframe tbody tr th:only-of-type {\n",
       "        vertical-align: middle;\n",
       "    }\n",
       "\n",
       "    .dataframe tbody tr th {\n",
       "        vertical-align: top;\n",
       "    }\n",
       "\n",
       "    .dataframe thead th {\n",
       "        text-align: right;\n",
       "    }\n",
       "</style>\n",
       "<table border=\"1\" class=\"dataframe\">\n",
       "  <thead>\n",
       "    <tr style=\"text-align: right;\">\n",
       "      <th></th>\n",
       "      <th>id</th>\n",
       "      <th>age</th>\n",
       "      <th>gender</th>\n",
       "      <th>height</th>\n",
       "      <th>weight</th>\n",
       "      <th>ap_hi</th>\n",
       "      <th>ap_lo</th>\n",
       "      <th>cholesterol</th>\n",
       "      <th>gluc</th>\n",
       "      <th>smoke</th>\n",
       "      <th>alco</th>\n",
       "      <th>active</th>\n",
       "      <th>cardio</th>\n",
       "    </tr>\n",
       "  </thead>\n",
       "  <tbody>\n",
       "    <tr>\n",
       "      <th>0</th>\n",
       "      <td>0</td>\n",
       "      <td>18393</td>\n",
       "      <td>2</td>\n",
       "      <td>168</td>\n",
       "      <td>62.0</td>\n",
       "      <td>110</td>\n",
       "      <td>80</td>\n",
       "      <td>1</td>\n",
       "      <td>1</td>\n",
       "      <td>0</td>\n",
       "      <td>0</td>\n",
       "      <td>1</td>\n",
       "      <td>0</td>\n",
       "    </tr>\n",
       "    <tr>\n",
       "      <th>1</th>\n",
       "      <td>1</td>\n",
       "      <td>20228</td>\n",
       "      <td>1</td>\n",
       "      <td>156</td>\n",
       "      <td>85.0</td>\n",
       "      <td>140</td>\n",
       "      <td>90</td>\n",
       "      <td>3</td>\n",
       "      <td>1</td>\n",
       "      <td>0</td>\n",
       "      <td>0</td>\n",
       "      <td>1</td>\n",
       "      <td>1</td>\n",
       "    </tr>\n",
       "    <tr>\n",
       "      <th>2</th>\n",
       "      <td>2</td>\n",
       "      <td>18857</td>\n",
       "      <td>1</td>\n",
       "      <td>165</td>\n",
       "      <td>64.0</td>\n",
       "      <td>130</td>\n",
       "      <td>70</td>\n",
       "      <td>3</td>\n",
       "      <td>1</td>\n",
       "      <td>0</td>\n",
       "      <td>0</td>\n",
       "      <td>0</td>\n",
       "      <td>1</td>\n",
       "    </tr>\n",
       "    <tr>\n",
       "      <th>3</th>\n",
       "      <td>3</td>\n",
       "      <td>17623</td>\n",
       "      <td>2</td>\n",
       "      <td>169</td>\n",
       "      <td>82.0</td>\n",
       "      <td>150</td>\n",
       "      <td>100</td>\n",
       "      <td>1</td>\n",
       "      <td>1</td>\n",
       "      <td>0</td>\n",
       "      <td>0</td>\n",
       "      <td>1</td>\n",
       "      <td>1</td>\n",
       "    </tr>\n",
       "    <tr>\n",
       "      <th>4</th>\n",
       "      <td>4</td>\n",
       "      <td>17474</td>\n",
       "      <td>1</td>\n",
       "      <td>156</td>\n",
       "      <td>56.0</td>\n",
       "      <td>100</td>\n",
       "      <td>60</td>\n",
       "      <td>1</td>\n",
       "      <td>1</td>\n",
       "      <td>0</td>\n",
       "      <td>0</td>\n",
       "      <td>0</td>\n",
       "      <td>0</td>\n",
       "    </tr>\n",
       "  </tbody>\n",
       "</table>\n",
       "</div>"
      ],
      "text/plain": [
       "   id    age  gender  height  weight  ap_hi  ap_lo  cholesterol  gluc  smoke  \\\n",
       "0   0  18393       2     168    62.0    110     80            1     1      0   \n",
       "1   1  20228       1     156    85.0    140     90            3     1      0   \n",
       "2   2  18857       1     165    64.0    130     70            3     1      0   \n",
       "3   3  17623       2     169    82.0    150    100            1     1      0   \n",
       "4   4  17474       1     156    56.0    100     60            1     1      0   \n",
       "\n",
       "   alco  active  cardio  \n",
       "0     0       1       0  \n",
       "1     0       1       1  \n",
       "2     0       0       1  \n",
       "3     0       1       1  \n",
       "4     0       0       0  "
      ]
     },
     "execution_count": 31,
     "metadata": {},
     "output_type": "execute_result"
    }
   ],
   "source": [
    "df_full.head()"
   ]
  },
  {
   "cell_type": "code",
   "execution_count": 32,
   "metadata": {},
   "outputs": [
    {
     "data": {
      "text/plain": [
       "0.4997"
      ]
     },
     "execution_count": 32,
     "metadata": {},
     "output_type": "execute_result"
    }
   ],
   "source": [
    "df_full['cardio'].mean()"
   ]
  },
  {
   "cell_type": "code",
   "execution_count": 33,
   "metadata": {},
   "outputs": [
    {
     "data": {
      "text/html": [
       "<div>\n",
       "<style scoped>\n",
       "    .dataframe tbody tr th:only-of-type {\n",
       "        vertical-align: middle;\n",
       "    }\n",
       "\n",
       "    .dataframe tbody tr th {\n",
       "        vertical-align: top;\n",
       "    }\n",
       "\n",
       "    .dataframe thead th {\n",
       "        text-align: right;\n",
       "    }\n",
       "</style>\n",
       "<table border=\"1\" class=\"dataframe\">\n",
       "  <thead>\n",
       "    <tr style=\"text-align: right;\">\n",
       "      <th></th>\n",
       "      <th>id</th>\n",
       "      <th>age</th>\n",
       "      <th>gender</th>\n",
       "      <th>height</th>\n",
       "      <th>weight</th>\n",
       "      <th>ap_hi</th>\n",
       "      <th>ap_lo</th>\n",
       "      <th>cholesterol</th>\n",
       "      <th>gluc</th>\n",
       "      <th>smoke</th>\n",
       "      <th>alco</th>\n",
       "      <th>active</th>\n",
       "      <th>cardio</th>\n",
       "    </tr>\n",
       "  </thead>\n",
       "  <tbody>\n",
       "    <tr>\n",
       "      <th>count</th>\n",
       "      <td>70000.000000</td>\n",
       "      <td>70000.000000</td>\n",
       "      <td>70000.000000</td>\n",
       "      <td>70000.000000</td>\n",
       "      <td>70000.000000</td>\n",
       "      <td>70000.000000</td>\n",
       "      <td>70000.000000</td>\n",
       "      <td>70000.000000</td>\n",
       "      <td>70000.000000</td>\n",
       "      <td>70000.000000</td>\n",
       "      <td>70000.000000</td>\n",
       "      <td>70000.000000</td>\n",
       "      <td>70000.000000</td>\n",
       "    </tr>\n",
       "    <tr>\n",
       "      <th>mean</th>\n",
       "      <td>49972.419900</td>\n",
       "      <td>19468.865814</td>\n",
       "      <td>1.349571</td>\n",
       "      <td>164.359229</td>\n",
       "      <td>74.205690</td>\n",
       "      <td>128.817286</td>\n",
       "      <td>96.630414</td>\n",
       "      <td>1.366871</td>\n",
       "      <td>1.226457</td>\n",
       "      <td>0.088129</td>\n",
       "      <td>0.053771</td>\n",
       "      <td>0.803729</td>\n",
       "      <td>0.499700</td>\n",
       "    </tr>\n",
       "    <tr>\n",
       "      <th>std</th>\n",
       "      <td>28851.302323</td>\n",
       "      <td>2467.251667</td>\n",
       "      <td>0.476838</td>\n",
       "      <td>8.210126</td>\n",
       "      <td>14.395757</td>\n",
       "      <td>154.011419</td>\n",
       "      <td>188.472530</td>\n",
       "      <td>0.680250</td>\n",
       "      <td>0.572270</td>\n",
       "      <td>0.283484</td>\n",
       "      <td>0.225568</td>\n",
       "      <td>0.397179</td>\n",
       "      <td>0.500003</td>\n",
       "    </tr>\n",
       "    <tr>\n",
       "      <th>min</th>\n",
       "      <td>0.000000</td>\n",
       "      <td>10798.000000</td>\n",
       "      <td>1.000000</td>\n",
       "      <td>55.000000</td>\n",
       "      <td>10.000000</td>\n",
       "      <td>-150.000000</td>\n",
       "      <td>-70.000000</td>\n",
       "      <td>1.000000</td>\n",
       "      <td>1.000000</td>\n",
       "      <td>0.000000</td>\n",
       "      <td>0.000000</td>\n",
       "      <td>0.000000</td>\n",
       "      <td>0.000000</td>\n",
       "    </tr>\n",
       "    <tr>\n",
       "      <th>25%</th>\n",
       "      <td>25006.750000</td>\n",
       "      <td>17664.000000</td>\n",
       "      <td>1.000000</td>\n",
       "      <td>159.000000</td>\n",
       "      <td>65.000000</td>\n",
       "      <td>120.000000</td>\n",
       "      <td>80.000000</td>\n",
       "      <td>1.000000</td>\n",
       "      <td>1.000000</td>\n",
       "      <td>0.000000</td>\n",
       "      <td>0.000000</td>\n",
       "      <td>1.000000</td>\n",
       "      <td>0.000000</td>\n",
       "    </tr>\n",
       "    <tr>\n",
       "      <th>50%</th>\n",
       "      <td>50001.500000</td>\n",
       "      <td>19703.000000</td>\n",
       "      <td>1.000000</td>\n",
       "      <td>165.000000</td>\n",
       "      <td>72.000000</td>\n",
       "      <td>120.000000</td>\n",
       "      <td>80.000000</td>\n",
       "      <td>1.000000</td>\n",
       "      <td>1.000000</td>\n",
       "      <td>0.000000</td>\n",
       "      <td>0.000000</td>\n",
       "      <td>1.000000</td>\n",
       "      <td>0.000000</td>\n",
       "    </tr>\n",
       "    <tr>\n",
       "      <th>75%</th>\n",
       "      <td>74889.250000</td>\n",
       "      <td>21327.000000</td>\n",
       "      <td>2.000000</td>\n",
       "      <td>170.000000</td>\n",
       "      <td>82.000000</td>\n",
       "      <td>140.000000</td>\n",
       "      <td>90.000000</td>\n",
       "      <td>2.000000</td>\n",
       "      <td>1.000000</td>\n",
       "      <td>0.000000</td>\n",
       "      <td>0.000000</td>\n",
       "      <td>1.000000</td>\n",
       "      <td>1.000000</td>\n",
       "    </tr>\n",
       "    <tr>\n",
       "      <th>max</th>\n",
       "      <td>99999.000000</td>\n",
       "      <td>23713.000000</td>\n",
       "      <td>2.000000</td>\n",
       "      <td>250.000000</td>\n",
       "      <td>200.000000</td>\n",
       "      <td>16020.000000</td>\n",
       "      <td>11000.000000</td>\n",
       "      <td>3.000000</td>\n",
       "      <td>3.000000</td>\n",
       "      <td>1.000000</td>\n",
       "      <td>1.000000</td>\n",
       "      <td>1.000000</td>\n",
       "      <td>1.000000</td>\n",
       "    </tr>\n",
       "  </tbody>\n",
       "</table>\n",
       "</div>"
      ],
      "text/plain": [
       "                 id           age        gender        height        weight  \\\n",
       "count  70000.000000  70000.000000  70000.000000  70000.000000  70000.000000   \n",
       "mean   49972.419900  19468.865814      1.349571    164.359229     74.205690   \n",
       "std    28851.302323   2467.251667      0.476838      8.210126     14.395757   \n",
       "min        0.000000  10798.000000      1.000000     55.000000     10.000000   \n",
       "25%    25006.750000  17664.000000      1.000000    159.000000     65.000000   \n",
       "50%    50001.500000  19703.000000      1.000000    165.000000     72.000000   \n",
       "75%    74889.250000  21327.000000      2.000000    170.000000     82.000000   \n",
       "max    99999.000000  23713.000000      2.000000    250.000000    200.000000   \n",
       "\n",
       "              ap_hi         ap_lo   cholesterol          gluc         smoke  \\\n",
       "count  70000.000000  70000.000000  70000.000000  70000.000000  70000.000000   \n",
       "mean     128.817286     96.630414      1.366871      1.226457      0.088129   \n",
       "std      154.011419    188.472530      0.680250      0.572270      0.283484   \n",
       "min     -150.000000    -70.000000      1.000000      1.000000      0.000000   \n",
       "25%      120.000000     80.000000      1.000000      1.000000      0.000000   \n",
       "50%      120.000000     80.000000      1.000000      1.000000      0.000000   \n",
       "75%      140.000000     90.000000      2.000000      1.000000      0.000000   \n",
       "max    16020.000000  11000.000000      3.000000      3.000000      1.000000   \n",
       "\n",
       "               alco        active        cardio  \n",
       "count  70000.000000  70000.000000  70000.000000  \n",
       "mean       0.053771      0.803729      0.499700  \n",
       "std        0.225568      0.397179      0.500003  \n",
       "min        0.000000      0.000000      0.000000  \n",
       "25%        0.000000      1.000000      0.000000  \n",
       "50%        0.000000      1.000000      0.000000  \n",
       "75%        0.000000      1.000000      1.000000  \n",
       "max        1.000000      1.000000      1.000000  "
      ]
     },
     "execution_count": 33,
     "metadata": {},
     "output_type": "execute_result"
    }
   ],
   "source": [
    "df_full.describe()"
   ]
  },
  {
   "cell_type": "code",
   "execution_count": 34,
   "metadata": {},
   "outputs": [
    {
     "data": {
      "text/plain": [
       "count    70000.000000\n",
       "mean        53.266391\n",
       "std          6.750347\n",
       "min         29.543092\n",
       "25%         48.328317\n",
       "50%         53.906977\n",
       "75%         58.350205\n",
       "max         64.878249\n",
       "Name: age, dtype: float64"
      ]
     },
     "execution_count": 34,
     "metadata": {},
     "output_type": "execute_result"
    }
   ],
   "source": [
    "(df_full['age'] / 365.5).describe()"
   ]
  },
  {
   "cell_type": "code",
   "execution_count": 16,
   "metadata": {},
   "outputs": [
    {
     "data": {
      "image/png": "[encoded data removed]",
      "text/plain": [
       "<Figure size 1008x1080 with 6 Axes>"
      ]
     },
     "metadata": {
      "needs_background": "light"
     },
     "output_type": "display_data"
    }
   ],
   "source": [
    "plot_kde_for_binary_clf(\n",
    "    X=df_full[['age', 'height', 'weight', 'ap_hi', 'ap_lo']], \n",
    "    y=df_full['cardio'], \n",
    "    n_cols=2, \n",
    "    figsize=(14, 15)\n",
    ")"
   ]
  },
  {
   "cell_type": "code",
   "execution_count": 22,
   "metadata": {},
   "outputs": [
    {
     "data": {
      "image/png": "[encoded data removed]",
      "text/plain": [
       "<Figure size 1080x720 with 6 Axes>"
      ]
     },
     "metadata": {
      "needs_background": "light"
     },
     "output_type": "display_data"
    }
   ],
   "source": [
    "plot_hist_for_binary_clf(\n",
    "    df_full[['gender', 'cholesterol', 'gluc', 'smoke', 'alco', 'active']],\n",
    "    df_full['cardio'],\n",
    "    n_cols=3,\n",
    "    figsize=(15,10)\n",
    ")"
   ]
  },
  {
   "cell_type": "markdown",
   "metadata": {},
   "source": [
    "# Split data"
   ]
  },
  {
   "cell_type": "code",
   "execution_count": 35,
   "metadata": {},
   "outputs": [],
   "source": [
    "df_train, df_test = train_test_split(df_full, test_size=0.25, random_state=42, stratify=df_full['cardio'])"
   ]
  },
  {
   "cell_type": "code",
   "execution_count": 37,
   "metadata": {},
   "outputs": [
    {
     "name": "stdout",
     "output_type": "stream",
     "text": [
      "train\n",
      "52500 0.4996952380952381\n",
      "test\n",
      "17500 0.4997142857142857\n"
     ]
    }
   ],
   "source": [
    "for name, df in zip(['train', 'test'], [df_train, df_test]):\n",
    "    print(name)\n",
    "    print(len(df), df['cardio'].mean())"
   ]
  },
  {
   "cell_type": "markdown",
   "metadata": {},
   "source": [
    "# Define data preparation pipelines"
   ]
  },
  {
   "cell_type": "code",
   "execution_count": 84,
   "metadata": {},
   "outputs": [],
   "source": [
    "pipeline_incorrect_vals = TransformerPipeline(\n",
    "    [\n",
    "        Transformer(lambda df: pd_withcolumn(df, 'ap_hi', \n",
    "            df['ap_hi'].apply(lambda x: x if ((x > 50) and (x < 250)) else np.nan))),\n",
    "        Transformer(lambda df: pd_withcolumn(df, 'ap_lo', \n",
    "            df['ap_lo'].apply(lambda x: x if ((x > 50) and (x < 250)) else np.nan))),\n",
    "    ]\n",
    ")"
   ]
  },
  {
   "cell_type": "code",
   "execution_count": 57,
   "metadata": {},
   "outputs": [],
   "source": [
    "pipeline_feats = TransformerPipeline(\n",
    "    [\n",
    "        Transformer(lambda df: df.drop('id', axis=1)),\n",
    "        Transformer(lambda df: pd_withcolumn(df, 'body_mass_index', df['weight'] / df['height']**2 * 1e4)),\n",
    "        Transformer(lambda df: pd_withcolumn(df, 'ap_spread', df['ap_hi'] - df['ap_lo'])),\n",
    "        Transformer(lambda df: pd_withcolumn(df, 'ap_mean', 0.5 * (df['ap_hi'] + df['ap_lo']))),\n",
    "    ]\n",
    ")"
   ]
  },
  {
   "cell_type": "code",
   "execution_count": 88,
   "metadata": {},
   "outputs": [],
   "source": [
    "tr_split_xy = Transformer(lambda df: (df.drop('cardio', axis=1), df['cardio']))"
   ]
  },
  {
   "cell_type": "code",
   "execution_count": 89,
   "metadata": {},
   "outputs": [],
   "source": [
    "pipeline_full_train = TransformerPipeline(\n",
    "    [\n",
    "        pipeline_incorrect_vals,\n",
    "        pipeline_feats,\n",
    "        tr_split_xy\n",
    "    ]\n",
    ")"
   ]
  },
  {
   "cell_type": "code",
   "execution_count": 93,
   "metadata": {},
   "outputs": [],
   "source": [
    "pipeline_full_test = TransformerPipeline(\n",
    "    [\n",
    "        pipeline_feats,\n",
    "        tr_split_xy\n",
    "    ]\n",
    ")"
   ]
  },
  {
   "cell_type": "markdown",
   "metadata": {},
   "source": [
    "# Prepare train/test datasets"
   ]
  },
  {
   "cell_type": "code",
   "execution_count": 94,
   "metadata": {},
   "outputs": [],
   "source": [
    "X_train, y_train = pipeline_full_train.apply(df_train)"
   ]
  },
  {
   "cell_type": "code",
   "execution_count": 181,
   "metadata": {},
   "outputs": [],
   "source": [
    "X_test, y_test = pipeline_full_test.apply(df_test)"
   ]
  },
  {
   "cell_type": "code",
   "execution_count": null,
   "metadata": {},
   "outputs": [],
   "source": []
  },
  {
   "cell_type": "markdown",
   "metadata": {},
   "source": [
    "# Try to fit some model"
   ]
  },
  {
   "cell_type": "code",
   "execution_count": 182,
   "metadata": {},
   "outputs": [],
   "source": [
    "clf = LGBMClassifier()"
   ]
  },
  {
   "cell_type": "code",
   "execution_count": 183,
   "metadata": {},
   "outputs": [],
   "source": [
    "cv_results = cross_validate(clf, X_train, y_train, \n",
    "    cv=StratifiedKFold(10, shuffle=True, random_state=42),\n",
    "    scoring=make_scorer(roc_auc_score, needs_proba=True), # (!) needs_proba=True is crucial here\n",
    "    return_train_score=True, \n",
    "    n_jobs=-1)"
   ]
  },
  {
   "cell_type": "code",
   "execution_count": 184,
   "metadata": {},
   "outputs": [
    {
     "data": {
      "text/plain": [
       "{'fit_time': array([0.56283903, 0.62084842, 0.59784532, 0.62484908, 0.60184717,\n",
       "        0.52983737, 0.57784176, 0.56883812, 0.5478251 , 0.57683444]),\n",
       " 'score_time': array([0.03200579, 0.03400731, 0.03000474, 0.03000665, 0.0370059 ,\n",
       "        0.03300118, 0.02600384, 0.02900481, 0.02700424, 0.037009  ]),\n",
       " 'test_score': array([0.80690616, 0.80583971, 0.8140767 , 0.79552322, 0.8032157 ,\n",
       "        0.80536188, 0.79533022, 0.79236256, 0.80708968, 0.79938457]),\n",
       " 'train_score': array([0.8292911 , 0.82903475, 0.82856476, 0.83085097, 0.8292863 ,\n",
       "        0.82937615, 0.83031745, 0.83124838, 0.82970213, 0.82993841])}"
      ]
     },
     "execution_count": 184,
     "metadata": {},
     "output_type": "execute_result"
    }
   ],
   "source": [
    "cv_results"
   ]
  },
  {
   "cell_type": "code",
   "execution_count": 185,
   "metadata": {},
   "outputs": [
    {
     "data": {
      "text/plain": [
       "LGBMClassifier()"
      ]
     },
     "execution_count": 185,
     "metadata": {},
     "output_type": "execute_result"
    }
   ],
   "source": [
    "clf.fit(X_train, y_train)"
   ]
  },
  {
   "cell_type": "code",
   "execution_count": 186,
   "metadata": {},
   "outputs": [],
   "source": [
    "pred_test = clf.predict_proba(X_test)[:, 1]"
   ]
  },
  {
   "cell_type": "code",
   "execution_count": 187,
   "metadata": {},
   "outputs": [
    {
     "data": {
      "text/plain": [
       "0.7993044242626691"
      ]
     },
     "execution_count": 187,
     "metadata": {},
     "output_type": "execute_result"
    }
   ],
   "source": [
    "roc_auc_score(y_test, pred_test)"
   ]
  },
  {
   "cell_type": "markdown",
   "metadata": {},
   "source": [
    "# Hyperopt"
   ]
  },
  {
   "cell_type": "code",
   "execution_count": 178,
   "metadata": {},
   "outputs": [],
   "source": [
    "def aggregate_cv_scores(train_scores, test_scores, std_coef=1.0, overfit_coef=1.0):\n",
    "    # Suppose that scores are positive; the higher the score the better\n",
    "    return (\n",
    "        test_scores.mean()\n",
    "        - std_coef * test_scores.std()\n",
    "        - overfit_coef * ((train_scores > test_scores) * (train_scores - test_scores)).mean()\n",
    "    )"
   ]
  },
  {
   "cell_type": "code",
   "execution_count": 201,
   "metadata": {},
   "outputs": [],
   "source": [
    "def init_clf(**params):\n",
    "    default_params = {\n",
    "        'subsample_freq': 10,\n",
    "        'random_state': 42,\n",
    "    }\n",
    "    initialization_params = {**default_params, **params}\n",
    "    return LGBMClassifier(**initialization_params)"
   ]
  },
  {
   "cell_type": "code",
   "execution_count": 215,
   "metadata": {},
   "outputs": [],
   "source": [
    "def construct_objective(X, y):\n",
    "    def _objective(trial):\n",
    "        params = {\n",
    "            'num_leaves': trial.suggest_int('num_leaves', 10, 250, 2),\n",
    "            # max_depth is not restricted\n",
    "            'n_estimators': trial.suggest_int('n_estimators', 10, 500, 10),\n",
    "            'learning_rate': trial.suggest_uniform('learning_rate', 0.01, 0.3),\n",
    "            'subsample': trial.suggest_uniform('subsample', 0.3, 0.7),\n",
    "            'colsample_bytree': trial.suggest_uniform('colsample_bytree', 0.4, 0.8),\n",
    "            'reg_alpha': trial.suggest_loguniform('reg_alpha', 1e-3, 1e3),\n",
    "            'reg_lambda': trial.suggest_loguniform('reg_lambda', 1e-3, 1e3),\n",
    "        }\n",
    "        clf = init_clf(**params)\n",
    "        cv_results = cross_validate(clf, X, y, \n",
    "            cv=StratifiedKFold(10, shuffle=True, random_state=42),\n",
    "            scoring=make_scorer(roc_auc_score, needs_proba=True),\n",
    "            return_train_score=True, \n",
    "            n_jobs=-1)\n",
    "        final_score = aggregate_cv_scores(\n",
    "            cv_results['train_score'], \n",
    "            cv_results['test_score'],\n",
    "            std_coef=0.5, overfit_coef=0.5\n",
    "        )\n",
    "        return final_score\n",
    "    return _objective\n",
    "\n",
    "hyperopt_objective = construct_objective(X_train, y_train)"
   ]
  },
  {
   "cell_type": "code",
   "execution_count": 216,
   "metadata": {
    "scrolled": true
   },
   "outputs": [
    {
     "name": "stderr",
     "output_type": "stream",
     "text": [
      "\u001b[32m[I 2022-02-05 17:27:09,973]\u001b[0m A new study created in memory with name: no-name-f3f465eb-e197-47f9-9d81-b4c2c3be8c9a\u001b[0m\n",
      "\u001b[32m[I 2022-02-05 17:27:25,088]\u001b[0m Trial 0 finished with value: 0.6511560908356686 and parameters: {'num_leaves': 100, 'n_estimators': 480, 'learning_rate': 0.22227824312530747, 'subsample': 0.5394633936788146, 'colsample_bytree': 0.46240745617697465, 'reg_alpha': 0.008629132190071854, 'reg_lambda': 0.002231010801867922}. Best is trial 0 with value: 0.6511560908356686.\u001b[0m\n",
      "\u001b[32m[I 2022-02-05 17:27:27,132]\u001b[0m Trial 1 finished with value: 0.7916866128752431 and parameters: {'num_leaves': 218, 'n_estimators': 310, 'learning_rate': 0.21534104756085318, 'subsample': 0.308233797718321, 'colsample_bytree': 0.7879639408647978, 'reg_alpha': 98.77700294007911, 'reg_lambda': 0.018794668241638456}. Best is trial 1 with value: 0.7916866128752431.\u001b[0m\n",
      "\u001b[32m[I 2022-02-05 17:27:28,849]\u001b[0m Trial 2 finished with value: 0.7813832917767968 and parameters: {'num_leaves': 54, 'n_estimators': 100, 'learning_rate': 0.09823025045826593, 'subsample': 0.5099025726528951, 'colsample_bytree': 0.5727780074568464, 'reg_alpha': 0.055895242052179224, 'reg_lambda': 4.689400963537685}. Best is trial 1 with value: 0.7916866128752431.\u001b[0m\n",
      "\u001b[32m[I 2022-02-05 17:27:30,911]\u001b[0m Trial 3 finished with value: 0.7705430798693005 and parameters: {'num_leaves': 42, 'n_estimators': 150, 'learning_rate': 0.11624493455517058, 'subsample': 0.4824279936868143, 'colsample_bytree': 0.7140703845572055, 'reg_alpha': 0.01577766363058246, 'reg_lambda': 1.2173252504194043}. Best is trial 1 with value: 0.7916866128752431.\u001b[0m\n",
      "\u001b[32m[I 2022-02-05 17:27:31,557]\u001b[0m Trial 4 finished with value: 0.7793202297757313 and parameters: {'num_leaves': 152, 'n_estimators': 30, 'learning_rate': 0.1861880070514171, 'subsample': 0.3682096494749166, 'colsample_bytree': 0.4260206371941118, 'reg_alpha': 493.52962094021007, 'reg_lambda': 622.0025976819159}. Best is trial 1 with value: 0.7916866128752431.\u001b[0m\n",
      "\u001b[32m[I 2022-02-05 17:27:36,111]\u001b[0m Trial 5 finished with value: 0.7606634670409217 and parameters: {'num_leaves': 204, 'n_estimators': 160, 'learning_rate': 0.03832491306185132, 'subsample': 0.5736932106048627, 'colsample_bytree': 0.5760609974958406, 'reg_alpha': 0.0053979568559964445, 'reg_lambda': 0.9355380606452179}. Best is trial 1 with value: 0.7916866128752431.\u001b[0m\n",
      "\u001b[32m[I 2022-02-05 17:27:40,647]\u001b[0m Trial 6 finished with value: 0.7799983186973128 and parameters: {'num_leaves': 18, 'n_estimators': 460, 'learning_rate': 0.0850461946640049, 'subsample': 0.5650089137415928, 'colsample_bytree': 0.5246844304357644, 'reg_alpha': 1.319496149042566, 'reg_lambda': 1.9066091638188458}. Best is trial 1 with value: 0.7916866128752431.\u001b[0m\n",
      "\u001b[32m[I 2022-02-05 17:27:50,444]\u001b[0m Trial 7 finished with value: 0.7658345672154669 and parameters: {'num_leaves': 54, 'n_estimators': 490, 'learning_rate': 0.2347885187747232, 'subsample': 0.6757995766256756, 'colsample_bytree': 0.7579309401710596, 'reg_alpha': 3.8672288491177444, 'reg_lambda': 339.8172415010595}. Best is trial 1 with value: 0.7916866128752431.\u001b[0m\n",
      "\u001b[32m[I 2022-02-05 17:27:51,663]\u001b[0m Trial 8 finished with value: 0.7938073165268594 and parameters: {'num_leaves': 30, 'n_estimators': 100, 'learning_rate': 0.023115913784056037, 'subsample': 0.4301321323053057, 'colsample_bytree': 0.5554709158757929, 'reg_alpha': 0.042471166626171425, 'reg_lambda': 93.84800715909533}. Best is trial 8 with value: 0.7938073165268594.\u001b[0m\n",
      "\u001b[32m[I 2022-02-05 17:27:53,981]\u001b[0m Trial 9 finished with value: 0.7948727673402816 and parameters: {'num_leaves': 96, 'n_estimators': 150, 'learning_rate': 0.16738186411589207, 'subsample': 0.35636968998990504, 'colsample_bytree': 0.7208787923016159, 'reg_alpha': 0.0028009403633756772, 'reg_lambda': 834.2988013047345}. Best is trial 9 with value: 0.7948727673402816.\u001b[0m\n",
      "\u001b[32m[I 2022-02-05 17:28:02,188]\u001b[0m Trial 10 finished with value: 0.7051550081301049 and parameters: {'num_leaves': 120, 'n_estimators': 290, 'learning_rate': 0.2911657621284812, 'subsample': 0.30413284126621826, 'colsample_bytree': 0.6732428970871788, 'reg_alpha': 0.0013459753326258226, 'reg_lambda': 24.110230992863983}. Best is trial 9 with value: 0.7948727673402816.\u001b[0m\n",
      "\u001b[32m[I 2022-02-05 17:28:02,633]\u001b[0m Trial 11 finished with value: 0.7837502376419259 and parameters: {'num_leaves': 80, 'n_estimators': 10, 'learning_rate': 0.018258704430591827, 'subsample': 0.4028336937507983, 'colsample_bytree': 0.6515105260328113, 'reg_alpha': 0.13677097444238315, 'reg_lambda': 99.12396631216222}. Best is trial 9 with value: 0.7948727673402816.\u001b[0m\n",
      "\u001b[32m[I 2022-02-05 17:28:04,496]\u001b[0m Trial 12 finished with value: 0.7966831610403304 and parameters: {'num_leaves': 12, 'n_estimators': 210, 'learning_rate': 0.14624674355380757, 'subsample': 0.400708880073932, 'colsample_bytree': 0.4960244667603435, 'reg_alpha': 0.0011005298194991845, 'reg_lambda': 974.3908562534053}. Best is trial 12 with value: 0.7966831610403304.\u001b[0m\n",
      "\u001b[32m[I 2022-02-05 17:28:07,707]\u001b[0m Trial 13 finished with value: 0.7953538422925137 and parameters: {'num_leaves': 174, 'n_estimators': 240, 'learning_rate': 0.14793763813003913, 'subsample': 0.36087886712101874, 'colsample_bytree': 0.46653492067312446, 'reg_alpha': 0.001348868116281668, 'reg_lambda': 937.3226177398745}. Best is trial 12 with value: 0.7966831610403304.\u001b[0m\n",
      "\u001b[32m[I 2022-02-05 17:28:24,031]\u001b[0m Trial 14 finished with value: 0.6609314404665674 and parameters: {'num_leaves': 170, 'n_estimators': 370, 'learning_rate': 0.14401327993632712, 'subsample': 0.4432920900181297, 'colsample_bytree': 0.48649210101687057, 'reg_alpha': 0.0016711130446662576, 'reg_lambda': 0.14771416006669513}. Best is trial 12 with value: 0.7966831610403304.\u001b[0m\n",
      "\u001b[32m[I 2022-02-05 17:28:26,486]\u001b[0m Trial 15 finished with value: 0.7935087742539132 and parameters: {'num_leaves': 188, 'n_estimators': 220, 'learning_rate': 0.13321989735831896, 'subsample': 0.34751600178589126, 'colsample_bytree': 0.4175352386397433, 'reg_alpha': 15.615662784702888, 'reg_lambda': 28.21855698118148}. Best is trial 12 with value: 0.7966831610403304.\u001b[0m\n",
      "\u001b[32m[I 2022-02-05 17:28:31,373]\u001b[0m Trial 16 finished with value: 0.7897149281492678 and parameters: {'num_leaves': 242, 'n_estimators': 250, 'learning_rate': 0.08207691013492038, 'subsample': 0.3986518254523122, 'colsample_bytree': 0.5011395043592429, 'reg_alpha': 0.17673720269707568, 'reg_lambda': 180.15845361413997}. Best is trial 12 with value: 0.7966831610403304.\u001b[0m\n",
      "\u001b[32m[I 2022-02-05 17:28:47,523]\u001b[0m Trial 17 finished with value: 0.7030787464299065 and parameters: {'num_leaves': 152, 'n_estimators': 370, 'learning_rate': 0.1806326345076778, 'subsample': 0.3043297258499177, 'colsample_bytree': 0.4542132427886333, 'reg_alpha': 0.0010657077605810167, 'reg_lambda': 10.881569576372351}. Best is trial 12 with value: 0.7966831610403304.\u001b[0m\n",
      "\u001b[32m[I 2022-02-05 17:28:51,517]\u001b[0m Trial 18 finished with value: 0.7913192551447352 and parameters: {'num_leaves': 244, 'n_estimators': 200, 'learning_rate': 0.2724262640860362, 'subsample': 0.4518184755642579, 'colsample_bytree': 0.6261166075322091, 'reg_alpha': 0.5471824152587721, 'reg_lambda': 923.2523962139032}. Best is trial 12 with value: 0.7966831610403304.\u001b[0m\n",
      "\u001b[32m[I 2022-02-05 17:29:04,640]\u001b[0m Trial 19 finished with value: 0.7329060197713667 and parameters: {'num_leaves': 142, 'n_estimators': 340, 'learning_rate': 0.05368100315015771, 'subsample': 0.3378943484531094, 'colsample_bytree': 0.5349639297847599, 'reg_alpha': 0.0169353381651764, 'reg_lambda': 0.22194380593063837}. Best is trial 12 with value: 0.7966831610403304.\u001b[0m\n",
      "\u001b[32m[I 2022-02-05 17:29:11,895]\u001b[0m Trial 20 finished with value: 0.6656637902002022 and parameters: {'num_leaves': 174, 'n_estimators': 250, 'learning_rate': 0.1975690887264355, 'subsample': 0.6216167311866039, 'colsample_bytree': 0.4046483846510213, 'reg_alpha': 0.0010851976043806607, 'reg_lambda': 0.001807639918831015}. Best is trial 12 with value: 0.7966831610403304.\u001b[0m\n",
      "\u001b[32m[I 2022-02-05 17:29:14,562]\u001b[0m Trial 21 finished with value: 0.7942948595561095 and parameters: {'num_leaves': 116, 'n_estimators': 170, 'learning_rate': 0.16445038311157947, 'subsample': 0.3794099024410035, 'colsample_bytree': 0.6939112117287687, 'reg_alpha': 0.005019742122522965, 'reg_lambda': 761.3981620007816}. Best is trial 12 with value: 0.7966831610403304.\u001b[0m\n"
     ]
    },
    {
     "name": "stderr",
     "output_type": "stream",
     "text": [
      "\u001b[32m[I 2022-02-05 17:29:15,881]\u001b[0m Trial 22 finished with value: 0.7956400195462606 and parameters: {'num_leaves': 76, 'n_estimators': 100, 'learning_rate': 0.1555296677867104, 'subsample': 0.3438836331568572, 'colsample_bytree': 0.6051626284280756, 'reg_alpha': 0.0023417096414590994, 'reg_lambda': 905.8079013337925}. Best is trial 12 with value: 0.7966831610403304.\u001b[0m\n",
      "\u001b[32m[I 2022-02-05 17:29:17,301]\u001b[0m Trial 23 finished with value: 0.7871787581487079 and parameters: {'num_leaves': 68, 'n_estimators': 80, 'learning_rate': 0.12919234638566787, 'subsample': 0.3266856235198263, 'colsample_bytree': 0.6093132030289645, 'reg_alpha': 0.0012370584890094682, 'reg_lambda': 46.26066322915486}. Best is trial 12 with value: 0.7966831610403304.\u001b[0m\n",
      "\u001b[32m[I 2022-02-05 17:29:17,994]\u001b[0m Trial 24 finished with value: 0.795424360851909 and parameters: {'num_leaves': 10, 'n_estimators': 50, 'learning_rate': 0.10497710694853352, 'subsample': 0.4161272506268608, 'colsample_bytree': 0.5003255566539667, 'reg_alpha': 0.027661681068456984, 'reg_lambda': 188.03142206218132}. Best is trial 12 with value: 0.7966831610403304.\u001b[0m\n",
      "\u001b[32m[I 2022-02-05 17:29:18,658]\u001b[0m Trial 25 finished with value: 0.7950017808021078 and parameters: {'num_leaves': 12, 'n_estimators': 50, 'learning_rate': 0.10987905419414726, 'subsample': 0.41600168429537515, 'colsample_bytree': 0.5278194739966762, 'reg_alpha': 0.033989373615738255, 'reg_lambda': 257.1490701424984}. Best is trial 12 with value: 0.7966831610403304.\u001b[0m\n",
      "\u001b[32m[I 2022-02-05 17:29:19,480]\u001b[0m Trial 26 finished with value: 0.7960065310149944 and parameters: {'num_leaves': 10, 'n_estimators': 70, 'learning_rate': 0.07468811641616335, 'subsample': 0.48060301637357467, 'colsample_bytree': 0.5890529087813541, 'reg_alpha': 0.1903306744535099, 'reg_lambda': 149.17007629215433}. Best is trial 12 with value: 0.7966831610403304.\u001b[0m\n",
      "\u001b[32m[I 2022-02-05 17:29:21,276]\u001b[0m Trial 27 finished with value: 0.7953447312589872 and parameters: {'num_leaves': 32, 'n_estimators': 120, 'learning_rate': 0.06268448497647505, 'subsample': 0.4716234542239994, 'colsample_bytree': 0.6320377456431585, 'reg_alpha': 9.722875857537593, 'reg_lambda': 63.04466715836878}. Best is trial 12 with value: 0.7966831610403304.\u001b[0m\n",
      "\u001b[32m[I 2022-02-05 17:29:22,846]\u001b[0m Trial 28 finished with value: 0.7643115010183344 and parameters: {'num_leaves': 78, 'n_estimators': 70, 'learning_rate': 0.244598084393586, 'subsample': 0.5092471817710507, 'colsample_bytree': 0.5940181777698501, 'reg_alpha': 0.30248909422747483, 'reg_lambda': 9.071583034419321}. Best is trial 12 with value: 0.7966831610403304.\u001b[0m\n",
      "\u001b[32m[I 2022-02-05 17:29:23,321]\u001b[0m Trial 29 finished with value: 0.7870874049518399 and parameters: {'num_leaves': 96, 'n_estimators': 10, 'learning_rate': 0.20792192961554232, 'subsample': 0.5358141228329588, 'colsample_bytree': 0.555938554986349, 'reg_alpha': 0.007714757289929812, 'reg_lambda': 330.88355668637905}. Best is trial 12 with value: 0.7966831610403304.\u001b[0m\n",
      "\u001b[32m[I 2022-02-05 17:29:25,668]\u001b[0m Trial 30 finished with value: 0.7871089271348825 and parameters: {'num_leaves': 26, 'n_estimators': 200, 'learning_rate': 0.0665104567219582, 'subsample': 0.4631558299726894, 'colsample_bytree': 0.6543844789685829, 'reg_alpha': 2.3469124357946765, 'reg_lambda': 0.015572678944954576}. Best is trial 12 with value: 0.7966831610403304.\u001b[0m\n",
      "\u001b[32m[I 2022-02-05 17:29:26,615]\u001b[0m Trial 31 finished with value: 0.7955482411820515 and parameters: {'num_leaves': 12, 'n_estimators': 50, 'learning_rate': 0.12066086051919724, 'subsample': 0.39556995874368445, 'colsample_bytree': 0.5064419412432448, 'reg_alpha': 0.08889284122883775, 'reg_lambda': 162.71173283757935}. Best is trial 12 with value: 0.7966831610403304.\u001b[0m\n",
      "\u001b[32m[I 2022-02-05 17:29:28,383]\u001b[0m Trial 32 finished with value: 0.7956343806065509 and parameters: {'num_leaves': 46, 'n_estimators': 120, 'learning_rate': 0.13211240239716315, 'subsample': 0.38884947737059283, 'colsample_bytree': 0.45681833147204065, 'reg_alpha': 0.5436226663064947, 'reg_lambda': 436.80303359279236}. Best is trial 12 with value: 0.7966831610403304.\u001b[0m\n",
      "\u001b[32m[I 2022-02-05 17:29:29,570]\u001b[0m Trial 33 finished with value: 0.7934547602094641 and parameters: {'num_leaves': 48, 'n_estimators': 130, 'learning_rate': 0.15953989642131028, 'subsample': 0.32547465514047297, 'colsample_bytree': 0.4469952703227757, 'reg_alpha': 58.665817557677805, 'reg_lambda': 425.8394876605737}. Best is trial 12 with value: 0.7966831610403304.\u001b[0m\n",
      "\u001b[32m[I 2022-02-05 17:29:31,066]\u001b[0m Trial 34 finished with value: 0.7949319857801237 and parameters: {'num_leaves': 64, 'n_estimators': 110, 'learning_rate': 0.08881533796013566, 'subsample': 0.3811364620939236, 'colsample_bytree': 0.5901544841361203, 'reg_alpha': 0.7410160852004718, 'reg_lambda': 819.3294331861207}. Best is trial 12 with value: 0.7966831610403304.\u001b[0m\n",
      "\u001b[32m[I 2022-02-05 17:29:33,767]\u001b[0m Trial 35 finished with value: 0.778947310871793 and parameters: {'num_leaves': 38, 'n_estimators': 180, 'learning_rate': 0.14171108132284474, 'subsample': 0.4886881854361368, 'colsample_bytree': 0.4789838919462134, 'reg_alpha': 0.4021983347228077, 'reg_lambda': 28.163632805923516}. Best is trial 12 with value: 0.7966831610403304.\u001b[0m\n",
      "\u001b[32m[I 2022-02-05 17:29:35,297]\u001b[0m Trial 36 finished with value: 0.792638278487702 and parameters: {'num_leaves': 58, 'n_estimators': 90, 'learning_rate': 0.17785114237534005, 'subsample': 0.43092348105718153, 'colsample_bytree': 0.4387597551558223, 'reg_alpha': 4.259514018386341, 'reg_lambda': 114.18533844309131}. Best is trial 12 with value: 0.7966831610403304.\u001b[0m\n",
      "\u001b[32m[I 2022-02-05 17:29:37,284]\u001b[0m Trial 37 finished with value: 0.7950034490080712 and parameters: {'num_leaves': 80, 'n_estimators': 130, 'learning_rate': 0.12291791007681677, 'subsample': 0.37703583777529004, 'colsample_bytree': 0.5717157151599034, 'reg_alpha': 1.4724962068204337, 'reg_lambda': 413.1132048655186}. Best is trial 12 with value: 0.7966831610403304.\u001b[0m\n",
      "\u001b[32m[I 2022-02-05 17:29:39,486]\u001b[0m Trial 38 finished with value: 0.7766972641052273 and parameters: {'num_leaves': 46, 'n_estimators': 140, 'learning_rate': 0.10418098091191029, 'subsample': 0.5356969413877364, 'colsample_bytree': 0.5482113386452337, 'reg_alpha': 0.013102220492032406, 'reg_lambda': 5.0742307670394915}. Best is trial 12 with value: 0.7966831610403304.\u001b[0m\n",
      "\u001b[32m[I 2022-02-05 17:29:43,521]\u001b[0m Trial 39 finished with value: 0.7733741568407666 and parameters: {'num_leaves': 26, 'n_estimators': 300, 'learning_rate': 0.1970128837807581, 'subsample': 0.49745439213945225, 'colsample_bytree': 0.6166139825682964, 'reg_alpha': 0.0034212625569224444, 'reg_lambda': 60.96663997019295}. Best is trial 12 with value: 0.7966831610403304.\u001b[0m\n",
      "\u001b[32m[I 2022-02-05 17:29:45,379]\u001b[0m Trial 40 finished with value: 0.7903840383251199 and parameters: {'num_leaves': 10, 'n_estimators': 200, 'learning_rate': 0.0399003851547913, 'subsample': 0.6061487557996438, 'colsample_bytree': 0.5774717951364204, 'reg_alpha': 190.1826012000577, 'reg_lambda': 994.6840840563493}. Best is trial 12 with value: 0.7966831610403304.\u001b[0m\n",
      "\u001b[32m[I 2022-02-05 17:29:46,312]\u001b[0m Trial 41 finished with value: 0.7957920135396138 and parameters: {'num_leaves': 16, 'n_estimators': 60, 'learning_rate': 0.1154663475222544, 'subsample': 0.39053947640060827, 'colsample_bytree': 0.5118753472018858, 'reg_alpha': 0.14474922094451406, 'reg_lambda': 178.08121624368331}. Best is trial 12 with value: 0.7966831610403304.\u001b[0m\n",
      "\u001b[32m[I 2022-02-05 17:29:47,282]\u001b[0m Trial 42 finished with value: 0.7925082272473656 and parameters: {'num_leaves': 20, 'n_estimators': 70, 'learning_rate': 0.0824781350930608, 'subsample': 0.3262066394727043, 'colsample_bytree': 0.5173495955208881, 'reg_alpha': 0.06987461062853302, 'reg_lambda': 476.01725036214054}. Best is trial 12 with value: 0.7966831610403304.\u001b[0m\n",
      "\u001b[32m[I 2022-02-05 17:29:47,918]\u001b[0m Trial 43 finished with value: 0.7914573201939159 and parameters: {'num_leaves': 40, 'n_estimators': 20, 'learning_rate': 0.15562981747199547, 'subsample': 0.4214850595966411, 'colsample_bytree': 0.47468013349102905, 'reg_alpha': 0.3321182737230073, 'reg_lambda': 217.78514801780497}. Best is trial 12 with value: 0.7966831610403304.\u001b[0m\n"
     ]
    },
    {
     "name": "stderr",
     "output_type": "stream",
     "text": [
      "\u001b[32m[I 2022-02-05 17:29:49,271]\u001b[0m Trial 44 finished with value: 0.795544601027386 and parameters: {'num_leaves': 22, 'n_estimators': 100, 'learning_rate': 0.13337267055738242, 'subsample': 0.36293133261584776, 'colsample_bytree': 0.42846001477147344, 'reg_alpha': 0.11935375225350571, 'reg_lambda': 523.3880997462667}. Best is trial 12 with value: 0.7966831610403304.\u001b[0m\n",
      "\u001b[32m[I 2022-02-05 17:29:50,111]\u001b[0m Trial 45 finished with value: 0.7937180287273814 and parameters: {'num_leaves': 36, 'n_estimators': 30, 'learning_rate': 0.09489802646511025, 'subsample': 0.3911927483470115, 'colsample_bytree': 0.5458967562639049, 'reg_alpha': 0.21155115069253236, 'reg_lambda': 93.50709128508933}. Best is trial 12 with value: 0.7966831610403304.\u001b[0m\n",
      "\u001b[32m[I 2022-02-05 17:29:52,533]\u001b[0m Trial 46 finished with value: 0.7800084356612547 and parameters: {'num_leaves': 52, 'n_estimators': 150, 'learning_rate': 0.1147708047783764, 'subsample': 0.4482508832971738, 'colsample_bytree': 0.401730808591127, 'reg_alpha': 1.0519626708737235, 'reg_lambda': 15.001428191126394}. Best is trial 12 with value: 0.7966831610403304.\u001b[0m\n",
      "\u001b[32m[I 2022-02-05 17:29:53,581]\u001b[0m Trial 47 finished with value: 0.7911960200591577 and parameters: {'num_leaves': 72, 'n_estimators': 40, 'learning_rate': 0.1440629092743883, 'subsample': 0.3428838097073566, 'colsample_bytree': 0.4900565535780228, 'reg_alpha': 0.06184420606651278, 'reg_lambda': 41.829395650226814}. Best is trial 12 with value: 0.7966831610403304.\u001b[0m\n",
      "\u001b[32m[I 2022-02-05 17:29:55,334]\u001b[0m Trial 48 finished with value: 0.7774217733302818 and parameters: {'num_leaves': 90, 'n_estimators': 80, 'learning_rate': 0.1734923076691002, 'subsample': 0.3615818647109234, 'colsample_bytree': 0.6456064294203302, 'reg_alpha': 6.1384806062778345, 'reg_lambda': 1.5234841575205842}. Best is trial 12 with value: 0.7966831610403304.\u001b[0m\n",
      "\u001b[32m[I 2022-02-05 17:29:58,780]\u001b[0m Trial 49 finished with value: 0.7318791772594301 and parameters: {'num_leaves': 110, 'n_estimators': 170, 'learning_rate': 0.15276093552464265, 'subsample': 0.40603905808784385, 'colsample_bytree': 0.6726268552647864, 'reg_alpha': 2.0598139644677005, 'reg_lambda': 0.5142260868527426}. Best is trial 12 with value: 0.7966831610403304.\u001b[0m\n",
      "\u001b[32m[I 2022-02-05 17:30:02,894]\u001b[0m Trial 50 finished with value: 0.7885274422291365 and parameters: {'num_leaves': 56, 'n_estimators': 270, 'learning_rate': 0.07150097254320688, 'subsample': 0.43934980973733717, 'colsample_bytree': 0.4653163278775911, 'reg_alpha': 0.020845846750397527, 'reg_lambda': 122.72218488257802}. Best is trial 12 with value: 0.7966831610403304.\u001b[0m\n",
      "\u001b[32m[I 2022-02-05 17:30:03,810]\u001b[0m Trial 51 finished with value: 0.7958567047330624 and parameters: {'num_leaves': 16, 'n_estimators': 60, 'learning_rate': 0.11783234857594765, 'subsample': 0.4023475369912171, 'colsample_bytree': 0.5063148777183344, 'reg_alpha': 0.08844086313580393, 'reg_lambda': 166.7960387911058}. Best is trial 12 with value: 0.7966831610403304.\u001b[0m\n",
      "\u001b[32m[I 2022-02-05 17:30:04,998]\u001b[0m Trial 52 finished with value: 0.7958049014781547 and parameters: {'num_leaves': 18, 'n_estimators': 70, 'learning_rate': 0.13599485733953168, 'subsample': 0.3874401162957688, 'colsample_bytree': 0.5143100312605082, 'reg_alpha': 0.04798652244996267, 'reg_lambda': 264.12473603836537}. Best is trial 12 with value: 0.7966831610403304.\u001b[0m\n",
      "\u001b[32m[I 2022-02-05 17:30:06,074]\u001b[0m Trial 53 finished with value: 0.795399794476411 and parameters: {'num_leaves': 18, 'n_estimators': 60, 'learning_rate': 0.09705493625305815, 'subsample': 0.46285589822725826, 'colsample_bytree': 0.566993543462435, 'reg_alpha': 0.0024419982425604204, 'reg_lambda': 241.70459976160816}. Best is trial 12 with value: 0.7966831610403304.\u001b[0m\n",
      "\u001b[32m[I 2022-02-05 17:30:06,660]\u001b[0m Trial 54 finished with value: 0.7869083252362102 and parameters: {'num_leaves': 30, 'n_estimators': 10, 'learning_rate': 0.11480819452921544, 'subsample': 0.35047525168580534, 'colsample_bytree': 0.5102517992500831, 'reg_alpha': 0.011557320717912756, 'reg_lambda': 77.77427707741332}. Best is trial 12 with value: 0.7966831610403304.\u001b[0m\n",
      "\u001b[32m[I 2022-02-05 17:30:07,849]\u001b[0m Trial 55 finished with value: 0.7958952635534412 and parameters: {'num_leaves': 10, 'n_estimators': 100, 'learning_rate': 0.1671876935246995, 'subsample': 0.3733185038870456, 'colsample_bytree': 0.524372224015911, 'reg_alpha': 0.04659979991136206, 'reg_lambda': 997.5858104225596}. Best is trial 12 with value: 0.7966831610403304.\u001b[0m\n",
      "\u001b[32m[I 2022-02-05 17:30:11,744]\u001b[0m Trial 56 finished with value: 0.7881888428142794 and parameters: {'num_leaves': 12, 'n_estimators': 420, 'learning_rate': 0.18791989792068303, 'subsample': 0.40981298576617936, 'colsample_bytree': 0.5329340587107817, 'reg_alpha': 0.048850336747536936, 'reg_lambda': 149.32431289404593}. Best is trial 12 with value: 0.7966831610403304.\u001b[0m\n",
      "\u001b[32m[I 2022-02-05 17:30:12,573]\u001b[0m Trial 57 finished with value: 0.7928457620543625 and parameters: {'num_leaves': 18, 'n_estimators': 30, 'learning_rate': 0.051120174530294576, 'subsample': 0.37422010109195103, 'colsample_bytree': 0.4936286710693048, 'reg_alpha': 0.16534687361139994, 'reg_lambda': 19.29955569628488}. Best is trial 12 with value: 0.7966831610403304.\u001b[0m\n",
      "\u001b[32m[I 2022-02-05 17:30:14,869]\u001b[0m Trial 58 finished with value: 0.7756700885666264 and parameters: {'num_leaves': 226, 'n_estimators': 90, 'learning_rate': 0.1410220266912213, 'subsample': 0.43554206514900085, 'colsample_bytree': 0.5157251360085446, 'reg_alpha': 0.10415676340811905, 'reg_lambda': 35.68808021957295}. Best is trial 12 with value: 0.7966831610403304.\u001b[0m\n",
      "\u001b[32m[I 2022-02-05 17:30:15,868]\u001b[0m Trial 59 finished with value: 0.795283331288515 and parameters: {'num_leaves': 10, 'n_estimators': 70, 'learning_rate': 0.16922441864472845, 'subsample': 0.3125071091207819, 'colsample_bytree': 0.48060764184507726, 'reg_alpha': 0.028283567808856606, 'reg_lambda': 627.6487599961328}. Best is trial 12 with value: 0.7966831610403304.\u001b[0m\n",
      "\u001b[32m[I 2022-02-05 17:30:20,103]\u001b[0m Trial 60 finished with value: 0.7936427237377285 and parameters: {'num_leaves': 32, 'n_estimators': 330, 'learning_rate': 0.07729907532764113, 'subsample': 0.42595007633914206, 'colsample_bytree': 0.5237646902704549, 'reg_alpha': 0.24885154612081653, 'reg_lambda': 290.338257643236}. Best is trial 12 with value: 0.7966831610403304.\u001b[0m\n",
      "\u001b[32m[I 2022-02-05 17:30:21,498]\u001b[0m Trial 61 finished with value: 0.7959519838155631 and parameters: {'num_leaves': 22, 'n_estimators': 100, 'learning_rate': 0.15713072892204025, 'subsample': 0.4009523104369024, 'colsample_bytree': 0.5421438010711126, 'reg_alpha': 0.038957310824284046, 'reg_lambda': 971.7220495093213}. Best is trial 12 with value: 0.7966831610403304.\u001b[0m\n",
      "\u001b[32m[I 2022-02-05 17:30:22,906]\u001b[0m Trial 62 finished with value: 0.7959113909750052 and parameters: {'num_leaves': 24, 'n_estimators': 100, 'learning_rate': 0.12315051117272977, 'subsample': 0.4000307809201654, 'colsample_bytree': 0.5358364966587988, 'reg_alpha': 0.05763716358269794, 'reg_lambda': 645.6342717352271}. Best is trial 12 with value: 0.7966831610403304.\u001b[0m\n",
      "\u001b[32m[I 2022-02-05 17:30:24,208]\u001b[0m Trial 63 finished with value: 0.7952374373833516 and parameters: {'num_leaves': 26, 'n_estimators': 100, 'learning_rate': 0.12676976918173333, 'subsample': 0.3714790938951969, 'colsample_bytree': 0.5414758292804265, 'reg_alpha': 0.03758295232277831, 'reg_lambda': 955.2889411461003}. Best is trial 12 with value: 0.7966831610403304.\u001b[0m\n",
      "\u001b[32m[I 2022-02-05 17:30:25,858]\u001b[0m Trial 64 finished with value: 0.7954635320316462 and parameters: {'num_leaves': 38, 'n_estimators': 120, 'learning_rate': 0.16184342773442614, 'subsample': 0.40111368746675585, 'colsample_bytree': 0.5515696408331237, 'reg_alpha': 0.006593037333662584, 'reg_lambda': 631.3942343720194}. Best is trial 12 with value: 0.7966831610403304.\u001b[0m\n",
      "\u001b[32m[I 2022-02-05 17:30:26,939]\u001b[0m Trial 65 finished with value: 0.7942589533450322 and parameters: {'num_leaves': 10, 'n_estimators': 80, 'learning_rate': 0.14940854516862398, 'subsample': 0.4129653149739345, 'colsample_bytree': 0.564013245482963, 'reg_alpha': 0.05216813541945068, 'reg_lambda': 0.006988130649710124}. Best is trial 12 with value: 0.7966831610403304.\u001b[0m\n"
     ]
    },
    {
     "name": "stderr",
     "output_type": "stream",
     "text": [
      "\u001b[32m[I 2022-02-05 17:30:28,984]\u001b[0m Trial 66 finished with value: 0.7907063794436746 and parameters: {'num_leaves': 24, 'n_estimators': 150, 'learning_rate': 0.22516634896757037, 'subsample': 0.47526196340951005, 'colsample_bytree': 0.5803176005869073, 'reg_alpha': 0.021882245920596437, 'reg_lambda': 310.0947148885508}. Best is trial 12 with value: 0.7966831610403304.\u001b[0m\n",
      "\u001b[32m[I 2022-02-05 17:30:31,783]\u001b[0m Trial 67 finished with value: 0.7535364847106392 and parameters: {'num_leaves': 32, 'n_estimators': 230, 'learning_rate': 0.18811969822176264, 'subsample': 0.5202676984338529, 'colsample_bytree': 0.5332985486273563, 'reg_alpha': 0.010426806508613716, 'reg_lambda': 0.08029432864433438}. Best is trial 12 with value: 0.7966831610403304.\u001b[0m\n",
      "\u001b[32m[I 2022-02-05 17:30:32,558]\u001b[0m Trial 68 finished with value: 0.7915622814352897 and parameters: {'num_leaves': 44, 'n_estimators': 40, 'learning_rate': 0.138258078219901, 'subsample': 0.5746655148027864, 'colsample_bytree': 0.5002380059484528, 'reg_alpha': 0.08195221718887849, 'reg_lambda': 953.9273189769407}. Best is trial 12 with value: 0.7966831610403304.\u001b[0m\n",
      "\u001b[32m[I 2022-02-05 17:30:34,181]\u001b[0m Trial 69 finished with value: 0.7958499812716778 and parameters: {'num_leaves': 18, 'n_estimators': 110, 'learning_rate': 0.1716786655647758, 'subsample': 0.6819440830083197, 'colsample_bytree': 0.5862509576916253, 'reg_alpha': 0.034545282167332776, 'reg_lambda': 662.9416647954515}. Best is trial 12 with value: 0.7966831610403304.\u001b[0m\n",
      "\u001b[32m[I 2022-02-05 17:30:36,155]\u001b[0m Trial 70 finished with value: 0.7923976051696897 and parameters: {'num_leaves': 62, 'n_estimators': 110, 'learning_rate': 0.2091492790882475, 'subsample': 0.6862595943205033, 'colsample_bytree': 0.5931569062302041, 'reg_alpha': 0.004655282504747955, 'reg_lambda': 617.7693414444037}. Best is trial 12 with value: 0.7966831610403304.\u001b[0m\n",
      "\u001b[32m[I 2022-02-05 17:30:37,874]\u001b[0m Trial 71 finished with value: 0.7956326605972945 and parameters: {'num_leaves': 18, 'n_estimators': 130, 'learning_rate': 0.16516478267664478, 'subsample': 0.4031400614021617, 'colsample_bytree': 0.5615342180193493, 'reg_alpha': 0.017011594005235338, 'reg_lambda': 365.4965736288244}. Best is trial 12 with value: 0.7966831610403304.\u001b[0m\n",
      "\u001b[32m[I 2022-02-05 17:30:39,053]\u001b[0m Trial 72 finished with value: 0.7968277083702644 and parameters: {'num_leaves': 10, 'n_estimators': 90, 'learning_rate': 0.1800966352185797, 'subsample': 0.6424481000880985, 'colsample_bytree': 0.5245711521423239, 'reg_alpha': 0.043694975796974324, 'reg_lambda': 985.751837521117}. Best is trial 72 with value: 0.7968277083702644.\u001b[0m\n",
      "\u001b[32m[I 2022-02-05 17:30:40,468]\u001b[0m Trial 73 finished with value: 0.7954827871245117 and parameters: {'num_leaves': 28, 'n_estimators': 90, 'learning_rate': 0.19727652236430676, 'subsample': 0.6535647917158249, 'colsample_bytree': 0.5862980572679207, 'reg_alpha': 0.03173289095688593, 'reg_lambda': 665.7643453868313}. Best is trial 72 with value: 0.7968277083702644.\u001b[0m\n",
      "\u001b[32m[I 2022-02-05 17:30:42,459]\u001b[0m Trial 74 finished with value: 0.7968792884644595 and parameters: {'num_leaves': 10, 'n_estimators': 190, 'learning_rate': 0.1815156772531336, 'subsample': 0.6583054508388064, 'colsample_bytree': 0.538252024278009, 'reg_alpha': 0.08912276244513177, 'reg_lambda': 916.3534430965079}. Best is trial 74 with value: 0.7968792884644595.\u001b[0m\n",
      "\u001b[32m[I 2022-02-05 17:30:44,673]\u001b[0m Trial 75 finished with value: 0.7964419918740929 and parameters: {'num_leaves': 10, 'n_estimators': 210, 'learning_rate': 0.19037472493869687, 'subsample': 0.6561223738190185, 'colsample_bytree': 0.526504774497923, 'reg_alpha': 0.10349304628194102, 'reg_lambda': 951.198467700206}. Best is trial 74 with value: 0.7968792884644595.\u001b[0m\n",
      "\u001b[32m[I 2022-02-05 17:30:46,725]\u001b[0m Trial 76 finished with value: 0.7967707630579527 and parameters: {'num_leaves': 10, 'n_estimators': 200, 'learning_rate': 0.17829422779402235, 'subsample': 0.699989180164143, 'colsample_bytree': 0.540668907241304, 'reg_alpha': 0.5076027446133587, 'reg_lambda': 969.6714838524335}. Best is trial 74 with value: 0.7968792884644595.\u001b[0m\n",
      "\u001b[32m[I 2022-02-05 17:30:49,753]\u001b[0m Trial 77 finished with value: 0.7934629875365131 and parameters: {'num_leaves': 34, 'n_estimators': 220, 'learning_rate': 0.1850613109089685, 'subsample': 0.6998574459928113, 'colsample_bytree': 0.5459938271258599, 'reg_alpha': 0.4948321698760608, 'reg_lambda': 986.8108107510152}. Best is trial 74 with value: 0.7968792884644595.\u001b[0m\n",
      "\u001b[32m[I 2022-02-05 17:30:52,333]\u001b[0m Trial 78 finished with value: 0.7910258468344471 and parameters: {'num_leaves': 24, 'n_estimators': 190, 'learning_rate': 0.20692899649840069, 'subsample': 0.6605904617968751, 'colsample_bytree': 0.5584024100237146, 'reg_alpha': 0.8740206477106551, 'reg_lambda': 437.62199864855813}. Best is trial 74 with value: 0.7968792884644595.\u001b[0m\n",
      "\u001b[32m[I 2022-02-05 17:30:54,958]\u001b[0m Trial 79 finished with value: 0.7942834398363954 and parameters: {'num_leaves': 10, 'n_estimators': 270, 'learning_rate': 0.1922190876266295, 'subsample': 0.6436916450015153, 'colsample_bytree': 0.7828957523108455, 'reg_alpha': 0.19798247544299657, 'reg_lambda': 488.7720139399509}. Best is trial 74 with value: 0.7968792884644595.\u001b[0m\n",
      "\u001b[32m[I 2022-02-05 17:30:57,885]\u001b[0m Trial 80 finished with value: 0.7941827994915345 and parameters: {'num_leaves': 128, 'n_estimators': 170, 'learning_rate': 0.17766946563125077, 'subsample': 0.6182838447034255, 'colsample_bytree': 0.602443239350889, 'reg_alpha': 0.1326940884908977, 'reg_lambda': 969.1358203021045}. Best is trial 74 with value: 0.7968792884644595.\u001b[0m\n",
      "\u001b[32m[I 2022-02-05 17:31:00,081]\u001b[0m Trial 81 finished with value: 0.7960991046272524 and parameters: {'num_leaves': 10, 'n_estimators': 210, 'learning_rate': 0.2261301821441289, 'subsample': 0.6643984835036422, 'colsample_bytree': 0.5283016684289903, 'reg_alpha': 0.27194142634359475, 'reg_lambda': 935.7759622238342}. Best is trial 74 with value: 0.7968792884644595.\u001b[0m\n",
      "\u001b[32m[I 2022-02-05 17:31:02,219]\u001b[0m Trial 82 finished with value: 0.7951805136035023 and parameters: {'num_leaves': 10, 'n_estimators': 210, 'learning_rate': 0.26033267230906165, 'subsample': 0.6704525895892666, 'colsample_bytree': 0.5376385092040811, 'reg_alpha': 0.24346095185286132, 'reg_lambda': 679.9777217959336}. Best is trial 74 with value: 0.7968792884644595.\u001b[0m\n",
      "\u001b[32m[I 2022-02-05 17:31:05,331]\u001b[0m Trial 83 finished with value: 0.7862529891998795 and parameters: {'num_leaves': 24, 'n_estimators': 230, 'learning_rate': 0.24832710454220233, 'subsample': 0.6933592927920131, 'colsample_bytree': 0.5265843704225558, 'reg_alpha': 0.39052066805063357, 'reg_lambda': 334.6220042287642}. Best is trial 74 with value: 0.7968792884644595.\u001b[0m\n",
      "\u001b[32m[I 2022-02-05 17:31:08,830]\u001b[0m Trial 84 finished with value: 0.7916354822150827 and parameters: {'num_leaves': 40, 'n_estimators': 250, 'learning_rate': 0.2216359580107255, 'subsample': 0.638225239013169, 'colsample_bytree': 0.48854175851292986, 'reg_alpha': 0.07052520355848566, 'reg_lambda': 966.7369757412068}. Best is trial 74 with value: 0.7968792884644595.\u001b[0m\n",
      "\u001b[32m[I 2022-02-05 17:31:10,915]\u001b[0m Trial 85 finished with value: 0.7946339130524451 and parameters: {'num_leaves': 14, 'n_estimators': 190, 'learning_rate': 0.20148790160778374, 'subsample': 0.6690001690011269, 'colsample_bytree': 0.500399353742471, 'reg_alpha': 0.6343511569061092, 'reg_lambda': 493.8740927567739}. Best is trial 74 with value: 0.7968792884644595.\u001b[0m\n",
      "\u001b[32m[I 2022-02-05 17:31:13,114]\u001b[0m Trial 86 finished with value: 0.7867468025758528 and parameters: {'num_leaves': 22, 'n_estimators': 160, 'learning_rate': 0.29018777048589, 'subsample': 0.6010889381520418, 'colsample_bytree': 0.5745443564984973, 'reg_alpha': 0.11929808581233374, 'reg_lambda': 248.9662722540623}. Best is trial 74 with value: 0.7968792884644595.\u001b[0m\n",
      "\u001b[32m[I 2022-02-05 17:31:16,348]\u001b[0m Trial 87 finished with value: 0.7902958171638841 and parameters: {'num_leaves': 48, 'n_estimators': 210, 'learning_rate': 0.21607371143224646, 'subsample': 0.6449014703127158, 'colsample_bytree': 0.5529069249633884, 'reg_alpha': 0.2673451130430218, 'reg_lambda': 756.0062843140863}. Best is trial 74 with value: 0.7968792884644595.\u001b[0m\n"
     ]
    },
    {
     "name": "stderr",
     "output_type": "stream",
     "text": [
      "\u001b[32m[I 2022-02-05 17:31:20,319]\u001b[0m Trial 88 finished with value: 0.7829678275370655 and parameters: {'num_leaves': 36, 'n_estimators': 270, 'learning_rate': 0.23644368738292737, 'subsample': 0.631504545201373, 'colsample_bytree': 0.5378940287130188, 'reg_alpha': 1.2399890716148265, 'reg_lambda': 377.83729244352645}. Best is trial 74 with value: 0.7968792884644595.\u001b[0m\n",
      "\u001b[32m[I 2022-02-05 17:31:22,881]\u001b[0m Trial 89 finished with value: 0.7873589662462256 and parameters: {'num_leaves': 30, 'n_estimators': 180, 'learning_rate': 0.1576444138803281, 'subsample': 0.6565875603664374, 'colsample_bytree': 0.47281320167333807, 'reg_alpha': 0.4213767311681673, 'reg_lambda': 137.48214156194433}. Best is trial 74 with value: 0.7968792884644595.\u001b[0m\n",
      "\u001b[32m[I 2022-02-05 17:31:24,975]\u001b[0m Trial 90 finished with value: 0.7885022580548858 and parameters: {'num_leaves': 10, 'n_estimators': 240, 'learning_rate': 0.177994245218141, 'subsample': 0.6775054119189885, 'colsample_bytree': 0.5188069401007112, 'reg_alpha': 1.8801093489957803, 'reg_lambda': 4.425159701226565}. Best is trial 74 with value: 0.7968792884644595.\u001b[0m\n",
      "\u001b[32m[I 2022-02-05 17:31:26,643]\u001b[0m Trial 91 finished with value: 0.7965672908486842 and parameters: {'num_leaves': 14, 'n_estimators': 140, 'learning_rate': 0.18231132460248672, 'subsample': 0.6923864319040501, 'colsample_bytree': 0.527296623584683, 'reg_alpha': 0.18064609133599444, 'reg_lambda': 956.1268872646795}. Best is trial 74 with value: 0.7968792884644595.\u001b[0m\n",
      "\u001b[32m[I 2022-02-05 17:31:29,179]\u001b[0m Trial 92 finished with value: 0.7956164988517138 and parameters: {'num_leaves': 16, 'n_estimators': 220, 'learning_rate': 0.1808090846731617, 'subsample': 0.6969256517312966, 'colsample_bytree': 0.5306025365145137, 'reg_alpha': 0.1722508973322482, 'reg_lambda': 990.1991900468232}. Best is trial 74 with value: 0.7968792884644595.\u001b[0m\n",
      "\u001b[32m[I 2022-02-05 17:31:30,955]\u001b[0m Trial 93 finished with value: 0.7932206396968235 and parameters: {'num_leaves': 24, 'n_estimators': 140, 'learning_rate': 0.026378576088357406, 'subsample': 0.6888798363962672, 'colsample_bytree': 0.54701545197226, 'reg_alpha': 0.10024466737874836, 'reg_lambda': 536.4849107410301}. Best is trial 74 with value: 0.7968792884644595.\u001b[0m\n",
      "\u001b[32m[I 2022-02-05 17:31:33,037]\u001b[0m Trial 94 finished with value: 0.7944010543719727 and parameters: {'num_leaves': 14, 'n_estimators': 190, 'learning_rate': 0.1478028106680761, 'subsample': 0.6654882529417296, 'colsample_bytree': 0.5074070119676154, 'reg_alpha': 0.31563268642107745, 'reg_lambda': 207.48928441865937}. Best is trial 74 with value: 0.7968792884644595.\u001b[0m\n",
      "\u001b[32m[I 2022-02-05 17:31:35,092]\u001b[0m Trial 95 finished with value: 0.7954737418298891 and parameters: {'num_leaves': 20, 'n_estimators': 160, 'learning_rate': 0.19026958417548062, 'subsample': 0.5578927849905742, 'colsample_bytree': 0.522576337787139, 'reg_alpha': 0.07049847176929414, 'reg_lambda': 733.1268864258435}. Best is trial 74 with value: 0.7968792884644595.\u001b[0m\n",
      "\u001b[32m[I 2022-02-05 17:31:37,900]\u001b[0m Trial 96 finished with value: 0.7912183084938376 and parameters: {'num_leaves': 28, 'n_estimators': 210, 'learning_rate': 0.16025154897937907, 'subsample': 0.6753764586283273, 'colsample_bytree': 0.4943256906077812, 'reg_alpha': 0.7762009197368198, 'reg_lambda': 374.1004081777246}. Best is trial 74 with value: 0.7968792884644595.\u001b[0m\n",
      "\u001b[32m[I 2022-02-05 17:31:42,227]\u001b[0m Trial 97 finished with value: 0.7891486190524619 and parameters: {'num_leaves': 194, 'n_estimators': 180, 'learning_rate': 0.17385339983646989, 'subsample': 0.622832314980328, 'colsample_bytree': 0.5549994978813819, 'reg_alpha': 0.16366790579406343, 'reg_lambda': 512.3725663459567}. Best is trial 74 with value: 0.7968792884644595.\u001b[0m\n",
      "\u001b[32m[I 2022-02-05 17:31:44,096]\u001b[0m Trial 98 finished with value: 0.7969494551655303 and parameters: {'num_leaves': 14, 'n_estimators': 140, 'learning_rate': 0.1530691347010153, 'subsample': 0.6495614771363701, 'colsample_bytree': 0.5411732361156851, 'reg_alpha': 0.22242111129317035, 'reg_lambda': 992.9914362973711}. Best is trial 98 with value: 0.7969494551655303.\u001b[0m\n",
      "\u001b[32m[I 2022-02-05 17:31:45,963]\u001b[0m Trial 99 finished with value: 0.7968742737415961 and parameters: {'num_leaves': 10, 'n_estimators': 140, 'learning_rate': 0.2024707514604432, 'subsample': 0.5944344300023897, 'colsample_bytree': 0.5679587626865882, 'reg_alpha': 0.35002405199839026, 'reg_lambda': 982.3685547259845}. Best is trial 98 with value: 0.7969494551655303.\u001b[0m\n",
      "\u001b[32m[I 2022-02-05 17:31:47,633]\u001b[0m Trial 100 finished with value: 0.7969803516917086 and parameters: {'num_leaves': 10, 'n_estimators': 140, 'learning_rate': 0.2041853974857777, 'subsample': 0.581077182496631, 'colsample_bytree': 0.5663139868645475, 'reg_alpha': 0.5047974350460478, 'reg_lambda': 780.5963612089023}. Best is trial 100 with value: 0.7969803516917086.\u001b[0m\n",
      "\u001b[32m[I 2022-02-05 17:31:49,263]\u001b[0m Trial 101 finished with value: 0.7969571586054458 and parameters: {'num_leaves': 10, 'n_estimators': 140, 'learning_rate': 0.20575789524066226, 'subsample': 0.5912946056158148, 'colsample_bytree': 0.5662380480850719, 'reg_alpha': 0.4496206155839181, 'reg_lambda': 849.4091990272387}. Best is trial 100 with value: 0.7969803516917086.\u001b[0m\n",
      "\u001b[32m[I 2022-02-05 17:31:50,921]\u001b[0m Trial 102 finished with value: 0.7958585166673162 and parameters: {'num_leaves': 14, 'n_estimators': 140, 'learning_rate': 0.2033339793476769, 'subsample': 0.5952397159062368, 'colsample_bytree': 0.5683071286488627, 'reg_alpha': 0.6817335532958085, 'reg_lambda': 750.9440132263137}. Best is trial 100 with value: 0.7969803516917086.\u001b[0m\n",
      "\u001b[32m[I 2022-02-05 17:31:52,717]\u001b[0m Trial 103 finished with value: 0.7965677704733461 and parameters: {'num_leaves': 10, 'n_estimators': 160, 'learning_rate': 0.2155260906937801, 'subsample': 0.5828311912137852, 'colsample_bytree': 0.5596071818148348, 'reg_alpha': 0.5243406100625535, 'reg_lambda': 822.3243734387645}. Best is trial 100 with value: 0.7969803516917086.\u001b[0m\n",
      "\u001b[32m[I 2022-02-05 17:31:54,475]\u001b[0m Trial 104 finished with value: 0.7935072562793463 and parameters: {'num_leaves': 14, 'n_estimators': 160, 'learning_rate': 0.2148265765966793, 'subsample': 0.5788336129827929, 'colsample_bytree': 0.5777800651012425, 'reg_alpha': 0.5587007903084712, 'reg_lambda': 311.4930938134334}. Best is trial 100 with value: 0.7969803516917086.\u001b[0m\n",
      "\u001b[32m[I 2022-02-05 17:31:57,757]\u001b[0m Trial 105 finished with value: 0.7895756706892757 and parameters: {'num_leaves': 156, 'n_estimators': 170, 'learning_rate': 0.19433101414062234, 'subsample': 0.5578691792577076, 'colsample_bytree': 0.5621335535353394, 'reg_alpha': 1.0512412066264811, 'reg_lambda': 491.0881380452002}. Best is trial 100 with value: 0.7969803516917086.\u001b[0m\n",
      "\u001b[32m[I 2022-02-05 17:31:59,397]\u001b[0m Trial 106 finished with value: 0.7968359695439101 and parameters: {'num_leaves': 10, 'n_estimators': 140, 'learning_rate': 0.18516369810117325, 'subsample': 0.5841117073777518, 'colsample_bytree': 0.6168954357322388, 'reg_alpha': 2.561525894915957, 'reg_lambda': 745.9652432198243}. Best is trial 100 with value: 0.7969803516917086.\u001b[0m\n",
      "\u001b[32m[I 2022-02-05 17:32:01,416]\u001b[0m Trial 107 finished with value: 0.7919255649071485 and parameters: {'num_leaves': 20, 'n_estimators': 140, 'learning_rate': 0.2158125817252476, 'subsample': 0.5813349860648014, 'colsample_bytree': 0.6318204635593317, 'reg_alpha': 2.6730786874077443, 'reg_lambda': 245.8788532271388}. Best is trial 100 with value: 0.7969803516917086.\u001b[0m\n",
      "\u001b[32m[I 2022-02-05 17:32:03,135]\u001b[0m Trial 108 finished with value: 0.7953514939801323 and parameters: {'num_leaves': 32, 'n_estimators': 120, 'learning_rate': 0.18339361758623068, 'subsample': 0.5889094012391235, 'colsample_bytree': 0.6006417631511712, 'reg_alpha': 3.6338541362561765, 'reg_lambda': 739.0540960464097}. Best is trial 100 with value: 0.7969803516917086.\u001b[0m\n",
      "\u001b[32m[I 2022-02-05 17:32:05,012]\u001b[0m Trial 109 finished with value: 0.7950840371383519 and parameters: {'num_leaves': 16, 'n_estimators': 150, 'learning_rate': 0.2008618802933338, 'subsample': 0.6145210998295182, 'colsample_bytree': 0.6130775656944002, 'reg_alpha': 9.708141810312215, 'reg_lambda': 407.05712948260344}. Best is trial 100 with value: 0.7969803516917086.\u001b[0m\n"
     ]
    },
    {
     "name": "stderr",
     "output_type": "stream",
     "text": [
      "\u001b[32m[I 2022-02-05 17:32:06,873]\u001b[0m Trial 110 finished with value: 0.7940360536301364 and parameters: {'num_leaves': 28, 'n_estimators': 130, 'learning_rate': 0.21099269467067538, 'subsample': 0.5450693689881415, 'colsample_bytree': 0.6184675737138231, 'reg_alpha': 1.36092501014026, 'reg_lambda': 569.1067867530995}. Best is trial 100 with value: 0.7969803516917086.\u001b[0m\n",
      "\u001b[32m[I 2022-02-05 17:32:08,750]\u001b[0m Trial 111 finished with value: 0.7962976893904253 and parameters: {'num_leaves': 10, 'n_estimators': 180, 'learning_rate': 0.23332760685826004, 'subsample': 0.5673233515684252, 'colsample_bytree': 0.5717148532563561, 'reg_alpha': 0.4779831741479201, 'reg_lambda': 990.7172245098957}. Best is trial 100 with value: 0.7969803516917086.\u001b[0m\n",
      "\u001b[32m[I 2022-02-05 17:32:10,632]\u001b[0m Trial 112 finished with value: 0.7968590108175136 and parameters: {'num_leaves': 10, 'n_estimators': 150, 'learning_rate': 0.1946379767010888, 'subsample': 0.6054916537726447, 'colsample_bytree': 0.5504378454282403, 'reg_alpha': 0.3108561534659568, 'reg_lambda': 780.595966922448}. Best is trial 100 with value: 0.7969803516917086.\u001b[0m\n",
      "\u001b[32m[I 2022-02-05 17:32:12,667]\u001b[0m Trial 113 finished with value: 0.7949497948809698 and parameters: {'num_leaves': 20, 'n_estimators': 150, 'learning_rate': 0.2038741955902155, 'subsample': 0.6052333189038315, 'colsample_bytree': 0.5539713254908806, 'reg_alpha': 0.36311218611682095, 'reg_lambda': 797.309992769676}. Best is trial 100 with value: 0.7969803516917086.\u001b[0m\n",
      "\u001b[32m[I 2022-02-05 17:32:14,092]\u001b[0m Trial 114 finished with value: 0.7963566375685274 and parameters: {'num_leaves': 14, 'n_estimators': 120, 'learning_rate': 0.1833535511434864, 'subsample': 0.5904084596359265, 'colsample_bytree': 0.5806103162103813, 'reg_alpha': 1.7089764304018336, 'reg_lambda': 594.1855057590376}. Best is trial 100 with value: 0.7969803516917086.\u001b[0m\n",
      "\u001b[32m[I 2022-02-05 17:32:15,915]\u001b[0m Trial 115 finished with value: 0.7955119485377098 and parameters: {'num_leaves': 10, 'n_estimators': 160, 'learning_rate': 0.19382807269958294, 'subsample': 0.6276020874006966, 'colsample_bytree': 0.54415650061827, 'reg_alpha': 0.20216040278749545, 'reg_lambda': 303.60285816204686}. Best is trial 100 with value: 0.7969803516917086.\u001b[0m\n",
      "\u001b[32m[I 2022-02-05 17:32:18,177]\u001b[0m Trial 116 finished with value: 0.7911997891264623 and parameters: {'num_leaves': 20, 'n_estimators': 170, 'learning_rate': 0.17383959020510129, 'subsample': 0.6082731699233324, 'colsample_bytree': 0.5669360506920629, 'reg_alpha': 0.8147879000024905, 'reg_lambda': 192.62353753117682}. Best is trial 100 with value: 0.7969803516917086.\u001b[0m\n",
      "\u001b[32m[I 2022-02-05 17:32:19,908]\u001b[0m Trial 117 finished with value: 0.7951402790922547 and parameters: {'num_leaves': 16, 'n_estimators': 140, 'learning_rate': 0.165966554363941, 'subsample': 0.5970081249726679, 'colsample_bytree': 0.5958328125715023, 'reg_alpha': 0.330315589293199, 'reg_lambda': 404.8067648987848}. Best is trial 100 with value: 0.7969803516917086.\u001b[0m\n",
      "\u001b[32m[I 2022-02-05 17:32:22,423]\u001b[0m Trial 118 finished with value: 0.7944345962351256 and parameters: {'num_leaves': 26, 'n_estimators': 190, 'learning_rate': 0.19657347618200424, 'subsample': 0.645722726424865, 'colsample_bytree': 0.5160726089131815, 'reg_alpha': 2.871786820949616, 'reg_lambda': 793.3995839653693}. Best is trial 100 with value: 0.7969803516917086.\u001b[0m\n",
      "\u001b[32m[I 2022-02-05 17:32:24,484]\u001b[0m Trial 119 finished with value: 0.7931101159839383 and parameters: {'num_leaves': 34, 'n_estimators': 130, 'learning_rate': 0.20871946186003823, 'subsample': 0.5846080107476078, 'colsample_bytree': 0.5382154648233441, 'reg_alpha': 0.6056481169551696, 'reg_lambda': 529.5738897447508}. Best is trial 100 with value: 0.7969803516917086.\u001b[0m\n",
      "\u001b[32m[I 2022-02-05 17:32:26,152]\u001b[0m Trial 120 finished with value: 0.7956919552194278 and parameters: {'num_leaves': 14, 'n_estimators': 150, 'learning_rate': 0.2208333859973646, 'subsample': 0.5694325564035588, 'colsample_bytree': 0.5626782321710331, 'reg_alpha': 0.44672241561861936, 'reg_lambda': 964.5280132041049}. Best is trial 100 with value: 0.7969803516917086.\u001b[0m\n",
      "\u001b[32m[I 2022-02-05 17:32:28,330]\u001b[0m Trial 121 finished with value: 0.7967172749282286 and parameters: {'num_leaves': 10, 'n_estimators': 200, 'learning_rate': 0.18752600576735934, 'subsample': 0.6339068465720509, 'colsample_bytree': 0.5490682182137298, 'reg_alpha': 0.13700586524812988, 'reg_lambda': 968.0508205394352}. Best is trial 100 with value: 0.7969803516917086.\u001b[0m\n",
      "\u001b[32m[I 2022-02-05 17:32:30,479]\u001b[0m Trial 122 finished with value: 0.7962314544211763 and parameters: {'num_leaves': 10, 'n_estimators': 200, 'learning_rate': 0.18745698704794161, 'subsample': 0.6123206811048786, 'colsample_bytree': 0.5467477702595361, 'reg_alpha': 0.2419916659445774, 'reg_lambda': 675.070303063068}. Best is trial 100 with value: 0.7969803516917086.\u001b[0m\n",
      "\u001b[32m[I 2022-02-05 17:32:32,931]\u001b[0m Trial 123 finished with value: 0.7951407012101434 and parameters: {'num_leaves': 20, 'n_estimators': 180, 'learning_rate': 0.17818655068182138, 'subsample': 0.6370744959243293, 'colsample_bytree': 0.5583389099900649, 'reg_alpha': 0.13456965250524083, 'reg_lambda': 773.3296685727526}. Best is trial 100 with value: 0.7969803516917086.\u001b[0m\n",
      "\u001b[32m[I 2022-02-05 17:32:34,993]\u001b[0m Trial 124 finished with value: 0.7945800449811978 and parameters: {'num_leaves': 14, 'n_estimators': 160, 'learning_rate': 0.20163958242438837, 'subsample': 0.6263186078419476, 'colsample_bytree': 0.5878679339279747, 'reg_alpha': 0.9433961469788479, 'reg_lambda': 483.8140883585145}. Best is trial 100 with value: 0.7969803516917086.\u001b[0m\n",
      "\u001b[32m[I 2022-02-05 17:32:36,782]\u001b[0m Trial 125 finished with value: 0.7964442028082775 and parameters: {'num_leaves': 10, 'n_estimators': 140, 'learning_rate': 0.17110627569308898, 'subsample': 0.6512944366631567, 'colsample_bytree': 0.5518652641007111, 'reg_alpha': 0.341478675209976, 'reg_lambda': 365.9159138167846}. Best is trial 100 with value: 0.7969803516917086.\u001b[0m\n",
      "\u001b[32m[I 2022-02-05 17:32:38,323]\u001b[0m Trial 126 finished with value: 0.7963706568464172 and parameters: {'num_leaves': 28, 'n_estimators': 110, 'learning_rate': 0.19803922550897474, 'subsample': 0.6183646130046119, 'colsample_bytree': 0.5323616526014947, 'reg_alpha': 33.0730740854855, 'reg_lambda': 927.7575065036231}. Best is trial 100 with value: 0.7969803516917086.\u001b[0m\n",
      "\u001b[32m[I 2022-02-05 17:32:40,286]\u001b[0m Trial 127 finished with value: 0.7964527063936451 and parameters: {'num_leaves': 22, 'n_estimators': 130, 'learning_rate': 0.15176154402914532, 'subsample': 0.5959617764771714, 'colsample_bytree': 0.5711605479046925, 'reg_alpha': 0.0016737623895790577, 'reg_lambda': 983.8616541846737}. Best is trial 100 with value: 0.7969803516917086.\u001b[0m\n",
      "\u001b[32m[I 2022-02-05 17:32:42,515]\u001b[0m Trial 128 finished with value: 0.7961496245348925 and parameters: {'num_leaves': 10, 'n_estimators': 200, 'learning_rate': 0.1842670974047507, 'subsample': 0.6382387601988505, 'colsample_bytree': 0.5399938726074575, 'reg_alpha': 5.695056979734391, 'reg_lambda': 586.7582751271294}. Best is trial 100 with value: 0.7969803516917086.\u001b[0m\n",
      "\u001b[32m[I 2022-02-05 17:32:45,201]\u001b[0m Trial 129 finished with value: 0.7862797622197838 and parameters: {'num_leaves': 40, 'n_estimators': 170, 'learning_rate': 0.21130719203431392, 'subsample': 0.5558578026317968, 'colsample_bytree': 0.5835708105236251, 'reg_alpha': 0.16284363845438832, 'reg_lambda': 270.1303039160347}. Best is trial 100 with value: 0.7969803516917086.\u001b[0m\n",
      "\u001b[32m[I 2022-02-05 17:32:48,044]\u001b[0m Trial 130 finished with value: 0.7947038497656259 and parameters: {'num_leaves': 18, 'n_estimators': 230, 'learning_rate': 0.19088432159975374, 'subsample': 0.574186427281132, 'colsample_bytree': 0.5187835475571885, 'reg_alpha': 0.20937955614786916, 'reg_lambda': 781.670614275905}. Best is trial 100 with value: 0.7969803516917086.\u001b[0m\n",
      "\u001b[32m[I 2022-02-05 17:32:50,095]\u001b[0m Trial 131 finished with value: 0.7963038999420855 and parameters: {'num_leaves': 22, 'n_estimators': 150, 'learning_rate': 0.15160275010063456, 'subsample': 0.5967410419229259, 'colsample_bytree': 0.571871736330103, 'reg_alpha': 0.5619919951449386, 'reg_lambda': 983.7870301241028}. Best is trial 100 with value: 0.7969803516917086.\u001b[0m\n"
     ]
    },
    {
     "name": "stderr",
     "output_type": "stream",
     "text": [
      "\u001b[32m[I 2022-02-05 17:32:51,608]\u001b[0m Trial 132 finished with value: 0.7970199153394854 and parameters: {'num_leaves': 10, 'n_estimators': 130, 'learning_rate': 0.1619792302618955, 'subsample': 0.6029996583929464, 'colsample_bytree': 0.557689261292493, 'reg_alpha': 0.001745381190612698, 'reg_lambda': 440.8029967627296}. Best is trial 132 with value: 0.7970199153394854.\u001b[0m\n",
      "\u001b[32m[I 2022-02-05 17:32:53,118]\u001b[0m Trial 133 finished with value: 0.7969092436362918 and parameters: {'num_leaves': 10, 'n_estimators': 120, 'learning_rate': 0.16258690136871795, 'subsample': 0.605533694617456, 'colsample_bytree': 0.5508619159997021, 'reg_alpha': 0.28215949810814134, 'reg_lambda': 432.10808877411654}. Best is trial 132 with value: 0.7970199153394854.\u001b[0m\n",
      "\u001b[32m[I 2022-02-05 17:32:54,561]\u001b[0m Trial 134 finished with value: 0.796975844156207 and parameters: {'num_leaves': 10, 'n_estimators': 120, 'learning_rate': 0.16278688120737775, 'subsample': 0.6055522329230473, 'colsample_bytree': 0.5516942130147093, 'reg_alpha': 0.0014026620639305428, 'reg_lambda': 466.78723584788924}. Best is trial 132 with value: 0.7970199153394854.\u001b[0m\n",
      "\u001b[32m[I 2022-02-05 17:32:55,994]\u001b[0m Trial 135 finished with value: 0.7968184014968058 and parameters: {'num_leaves': 10, 'n_estimators': 110, 'learning_rate': 0.16388850940858385, 'subsample': 0.6059745291519698, 'colsample_bytree': 0.5464205906609317, 'reg_alpha': 0.0038881271214587544, 'reg_lambda': 412.35343612708596}. Best is trial 132 with value: 0.7970199153394854.\u001b[0m\n",
      "\u001b[32m[I 2022-02-05 17:32:57,464]\u001b[0m Trial 136 finished with value: 0.7966167227762753 and parameters: {'num_leaves': 10, 'n_estimators': 110, 'learning_rate': 0.16451966476144297, 'subsample': 0.6060798318381632, 'colsample_bytree': 0.5530832442780524, 'reg_alpha': 0.0032365828872324225, 'reg_lambda': 217.3865912318001}. Best is trial 132 with value: 0.7970199153394854.\u001b[0m\n",
      "\u001b[32m[I 2022-02-05 17:32:59,506]\u001b[0m Trial 137 finished with value: 0.7928463429965922 and parameters: {'num_leaves': 250, 'n_estimators': 90, 'learning_rate': 0.1715263392538129, 'subsample': 0.6122769588704986, 'colsample_bytree': 0.5498118834776758, 'reg_alpha': 0.0010566406326515784, 'reg_lambda': 405.6877736320256}. Best is trial 132 with value: 0.7970199153394854.\u001b[0m\n",
      "\u001b[32m[I 2022-02-05 17:33:01,049]\u001b[0m Trial 138 finished with value: 0.794916945371384 and parameters: {'num_leaves': 16, 'n_estimators': 120, 'learning_rate': 0.16314704268273983, 'subsample': 0.6325532174843321, 'colsample_bytree': 0.5407566567190375, 'reg_alpha': 0.0017175497952456595, 'reg_lambda': 316.09538449579276}. Best is trial 132 with value: 0.7970199153394854.\u001b[0m\n",
      "\u001b[32m[I 2022-02-05 17:33:02,887]\u001b[0m Trial 139 finished with value: 0.794874984032313 and parameters: {'num_leaves': 26, 'n_estimators': 120, 'learning_rate': 0.1452758564955357, 'subsample': 0.6203139270428738, 'colsample_bytree': 0.565593248349654, 'reg_alpha': 0.0022387428166960434, 'reg_lambda': 476.1727965149787}. Best is trial 132 with value: 0.7970199153394854.\u001b[0m\n",
      "\u001b[32m[I 2022-02-05 17:33:04,072]\u001b[0m Trial 140 finished with value: 0.7920826854688886 and parameters: {'num_leaves': 10, 'n_estimators': 110, 'learning_rate': 0.1768879051903865, 'subsample': 0.6024828316997467, 'colsample_bytree': 0.6063473868757142, 'reg_alpha': 0.0012181649423413665, 'reg_lambda': 0.7455645813555875}. Best is trial 132 with value: 0.7970199153394854.\u001b[0m\n",
      "\u001b[32m[I 2022-02-05 17:33:05,873]\u001b[0m Trial 141 finished with value: 0.7959781619423264 and parameters: {'num_leaves': 18, 'n_estimators': 130, 'learning_rate': 0.14042106779869068, 'subsample': 0.6276523813984867, 'colsample_bytree': 0.5446220562934282, 'reg_alpha': 0.0014914215922187711, 'reg_lambda': 568.5132531364801}. Best is trial 132 with value: 0.7970199153394854.\u001b[0m\n",
      "\u001b[32m[I 2022-02-05 17:33:07,109]\u001b[0m Trial 142 finished with value: 0.7968580048040458 and parameters: {'num_leaves': 10, 'n_estimators': 90, 'learning_rate': 0.15495684737305376, 'subsample': 0.5903036541824619, 'colsample_bytree': 0.6462048740457754, 'reg_alpha': 0.004347951693901285, 'reg_lambda': 644.6963063353702}. Best is trial 132 with value: 0.7970199153394854.\u001b[0m\n",
      "\u001b[32m[I 2022-02-05 17:33:08,311]\u001b[0m Trial 143 finished with value: 0.7970647675505321 and parameters: {'num_leaves': 10, 'n_estimators': 80, 'learning_rate': 0.1587297913687069, 'subsample': 0.5914199797353884, 'colsample_bytree': 0.6714363680658635, 'reg_alpha': 0.006270892313414167, 'reg_lambda': 398.01301736091204}. Best is trial 143 with value: 0.7970647675505321.\u001b[0m\n",
      "\u001b[32m[I 2022-02-05 17:33:09,564]\u001b[0m Trial 144 finished with value: 0.795735908845197 and parameters: {'num_leaves': 14, 'n_estimators': 90, 'learning_rate': 0.15788056021802507, 'subsample': 0.5908198721329325, 'colsample_bytree': 0.6686562379155844, 'reg_alpha': 0.004404857565963362, 'reg_lambda': 171.25645600211124}. Best is trial 143 with value: 0.7970647675505321.\u001b[0m\n",
      "\u001b[32m[I 2022-02-05 17:33:11,023]\u001b[0m Trial 145 finished with value: 0.7935642408373901 and parameters: {'num_leaves': 22, 'n_estimators': 80, 'learning_rate': 0.1625724868212831, 'subsample': 0.5834138069044935, 'colsample_bytree': 0.6902834316299974, 'reg_alpha': 0.005741917569769581, 'reg_lambda': 90.3784154854104}. Best is trial 143 with value: 0.7970647675505321.\u001b[0m\n",
      "\u001b[32m[I 2022-02-05 17:33:12,489]\u001b[0m Trial 146 finished with value: 0.7962017835985957 and parameters: {'num_leaves': 16, 'n_estimators': 80, 'learning_rate': 0.16851150874006074, 'subsample': 0.6031376992000278, 'colsample_bytree': 0.6441752887256063, 'reg_alpha': 0.003933063767694832, 'reg_lambda': 314.1917472857976}. Best is trial 143 with value: 0.7970647675505321.\u001b[0m\n",
      "\u001b[32m[I 2022-02-05 17:33:14,106]\u001b[0m Trial 147 finished with value: 0.7969176674520944 and parameters: {'num_leaves': 10, 'n_estimators': 110, 'learning_rate': 0.15462825499139599, 'subsample': 0.5892910347200355, 'colsample_bytree': 0.6482326421052965, 'reg_alpha': 0.009818585206563243, 'reg_lambda': 411.3278152563986}. Best is trial 143 with value: 0.7970647675505321.\u001b[0m\n",
      "\u001b[32m[I 2022-02-05 17:33:15,441]\u001b[0m Trial 148 finished with value: 0.7963257830922401 and parameters: {'num_leaves': 10, 'n_estimators': 100, 'learning_rate': 0.15504437607351643, 'subsample': 0.5892637190670397, 'colsample_bytree': 0.6636000606345562, 'reg_alpha': 0.00830559036863583, 'reg_lambda': 119.78119326707946}. Best is trial 143 with value: 0.7970647675505321.\u001b[0m\n",
      "\u001b[32m[I 2022-02-05 17:33:17,157]\u001b[0m Trial 149 finished with value: 0.7929038719043614 and parameters: {'num_leaves': 30, 'n_estimators': 110, 'learning_rate': 0.14799917600004536, 'subsample': 0.5647559739866855, 'colsample_bytree': 0.682649342574679, 'reg_alpha': 0.0023103240846062047, 'reg_lambda': 244.06272327970373}. Best is trial 143 with value: 0.7970647675505321.\u001b[0m\n",
      "\u001b[32m[I 2022-02-05 17:33:18,631]\u001b[0m Trial 150 finished with value: 0.7961494945389113 and parameters: {'num_leaves': 18, 'n_estimators': 90, 'learning_rate': 0.13297018838320512, 'subsample': 0.61224918597012, 'colsample_bytree': 0.7239095897350627, 'reg_alpha': 0.003074879527353059, 'reg_lambda': 389.573015020421}. Best is trial 143 with value: 0.7970647675505321.\u001b[0m\n",
      "\u001b[32m[I 2022-02-05 17:33:20,155]\u001b[0m Trial 151 finished with value: 0.7968769481444541 and parameters: {'num_leaves': 10, 'n_estimators': 120, 'learning_rate': 0.15874929624199838, 'subsample': 0.5748674488063449, 'colsample_bytree': 0.6441561179459362, 'reg_alpha': 0.009730672870836114, 'reg_lambda': 608.0319162376984}. Best is trial 143 with value: 0.7970647675505321.\u001b[0m\n",
      "\u001b[32m[I 2022-02-05 17:33:21,706]\u001b[0m Trial 152 finished with value: 0.7968106998668291 and parameters: {'num_leaves': 10, 'n_estimators': 130, 'learning_rate': 0.15423908521604948, 'subsample': 0.5759690530906674, 'colsample_bytree': 0.647977324214878, 'reg_alpha': 0.014645085926152247, 'reg_lambda': 592.3634119977734}. Best is trial 143 with value: 0.7970647675505321.\u001b[0m\n",
      "\u001b[32m[I 2022-02-05 17:33:23,107]\u001b[0m Trial 153 finished with value: 0.796108448343935 and parameters: {'num_leaves': 16, 'n_estimators': 100, 'learning_rate': 0.15891980923132012, 'subsample': 0.5443825309557724, 'colsample_bytree': 0.6574505255977738, 'reg_alpha': 0.007289041320143198, 'reg_lambda': 469.2876589770393}. Best is trial 143 with value: 0.7970647675505321.\u001b[0m\n"
     ]
    },
    {
     "name": "stderr",
     "output_type": "stream",
     "text": [
      "\u001b[32m[I 2022-02-05 17:33:24,904]\u001b[0m Trial 154 finished with value: 0.7952390586959525 and parameters: {'num_leaves': 22, 'n_estimators': 120, 'learning_rate': 0.1674260137886251, 'subsample': 0.5973696408073473, 'colsample_bytree': 0.6412512108764414, 'reg_alpha': 0.005050885566263999, 'reg_lambda': 659.4157241397513}. Best is trial 143 with value: 0.7970647675505321.\u001b[0m\n",
      "\u001b[32m[I 2022-02-05 17:33:26,333]\u001b[0m Trial 155 finished with value: 0.796817749159719 and parameters: {'num_leaves': 10, 'n_estimators': 110, 'learning_rate': 0.14675773298828268, 'subsample': 0.5883805709650983, 'colsample_bytree': 0.6181703262364258, 'reg_alpha': 0.011135663738784085, 'reg_lambda': 321.14076506665737}. Best is trial 143 with value: 0.7970647675505321.\u001b[0m\n",
      "\u001b[32m[I 2022-02-05 17:33:27,250]\u001b[0m Trial 156 finished with value: 0.7965811929378522 and parameters: {'num_leaves': 14, 'n_estimators': 60, 'learning_rate': 0.16034134713523882, 'subsample': 0.5780446954134194, 'colsample_bytree': 0.6590079960057308, 'reg_alpha': 0.01919031866273273, 'reg_lambda': 452.44596346238876}. Best is trial 143 with value: 0.7970647675505321.\u001b[0m\n",
      "\u001b[32m[I 2022-02-05 17:33:29,157]\u001b[0m Trial 157 finished with value: 0.7918473864386377 and parameters: {'num_leaves': 26, 'n_estimators': 120, 'learning_rate': 0.17290743333677838, 'subsample': 0.5678019459390353, 'colsample_bytree': 0.6318472436920973, 'reg_alpha': 0.009471731553798528, 'reg_lambda': 212.40065295033108}. Best is trial 143 with value: 0.7970647675505321.\u001b[0m\n",
      "\u001b[32m[I 2022-02-05 17:33:31,018]\u001b[0m Trial 158 finished with value: 0.7956925621873766 and parameters: {'num_leaves': 20, 'n_estimators': 130, 'learning_rate': 0.15194045397504866, 'subsample': 0.6042547940965202, 'colsample_bytree': 0.6267065822178857, 'reg_alpha': 0.006599244899353239, 'reg_lambda': 628.967915058208}. Best is trial 143 with value: 0.7970647675505321.\u001b[0m\n",
      "\u001b[32m[I 2022-02-05 17:33:32,239]\u001b[0m Trial 159 finished with value: 0.7968878541384177 and parameters: {'num_leaves': 10, 'n_estimators': 80, 'learning_rate': 0.13963438774557743, 'subsample': 0.5906567073942711, 'colsample_bytree': 0.6788733900867113, 'reg_alpha': 0.00418758166287746, 'reg_lambda': 375.5644344195729}. Best is trial 143 with value: 0.7970647675505321.\u001b[0m\n",
      "\u001b[32m[I 2022-02-05 17:33:33,317]\u001b[0m Trial 160 finished with value: 0.7965516787834613 and parameters: {'num_leaves': 16, 'n_estimators': 70, 'learning_rate': 0.12765576697236156, 'subsample': 0.5601679612524588, 'colsample_bytree': 0.6875586215815254, 'reg_alpha': 0.002037807059864291, 'reg_lambda': 275.31169466762344}. Best is trial 143 with value: 0.7970647675505321.\u001b[0m\n",
      "\u001b[32m[I 2022-02-05 17:33:34,616]\u001b[0m Trial 161 finished with value: 0.7967425857576833 and parameters: {'num_leaves': 10, 'n_estimators': 90, 'learning_rate': 0.13980865747348944, 'subsample': 0.5912519143436821, 'colsample_bytree': 0.7041070522152738, 'reg_alpha': 0.0036528008794189755, 'reg_lambda': 393.5604148740378}. Best is trial 143 with value: 0.7970647675505321.\u001b[0m\n",
      "\u001b[32m[I 2022-02-05 17:33:35,923]\u001b[0m Trial 162 finished with value: 0.796794947753373 and parameters: {'num_leaves': 10, 'n_estimators': 100, 'learning_rate': 0.1450227824390138, 'subsample': 0.5812348067746445, 'colsample_bytree': 0.6670452170280847, 'reg_alpha': 0.002787567701373342, 'reg_lambda': 526.6307751162315}. Best is trial 143 with value: 0.7970647675505321.\u001b[0m\n",
      "\u001b[32m[I 2022-02-05 17:33:37,045]\u001b[0m Trial 163 finished with value: 0.7967149417920444 and parameters: {'num_leaves': 14, 'n_estimators': 80, 'learning_rate': 0.16795995128642377, 'subsample': 0.5988349980903857, 'colsample_bytree': 0.6400350797909566, 'reg_alpha': 0.005908724985106198, 'reg_lambda': 726.4367477464275}. Best is trial 143 with value: 0.7970647675505321.\u001b[0m\n",
      "\u001b[32m[I 2022-02-05 17:33:38,640]\u001b[0m Trial 164 finished with value: 0.7962969414538704 and parameters: {'num_leaves': 10, 'n_estimators': 140, 'learning_rate': 0.15576053936263856, 'subsample': 0.6112188380891026, 'colsample_bytree': 0.7022860371426809, 'reg_alpha': 0.013388583250336962, 'reg_lambda': 374.3691453470727}. Best is trial 143 with value: 0.7970647675505321.\u001b[0m\n",
      "\u001b[32m[I 2022-02-05 17:33:40,329]\u001b[0m Trial 165 finished with value: 0.795827355144703 and parameters: {'num_leaves': 20, 'n_estimators': 110, 'learning_rate': 0.16472741930759827, 'subsample': 0.6221967443970441, 'colsample_bytree': 0.6734294568206953, 'reg_alpha': 0.00477420461584483, 'reg_lambda': 713.7448124289347}. Best is trial 143 with value: 0.7970647675505321.\u001b[0m\n",
      "\u001b[32m[I 2022-02-05 17:33:42,803]\u001b[0m Trial 166 finished with value: 0.7856927413349425 and parameters: {'num_leaves': 86, 'n_estimators': 120, 'learning_rate': 0.13808820285278242, 'subsample': 0.5853996812166186, 'colsample_bytree': 0.6796309607065014, 'reg_alpha': 0.0028690960428869685, 'reg_lambda': 163.26570226585739}. Best is trial 143 with value: 0.7970647675505321.\u001b[0m\n",
      "\u001b[32m[I 2022-02-05 17:33:44,051]\u001b[0m Trial 167 finished with value: 0.7946917053734265 and parameters: {'num_leaves': 102, 'n_estimators': 50, 'learning_rate': 0.18188631688450843, 'subsample': 0.5744554713105706, 'colsample_bytree': 0.6487445893436002, 'reg_alpha': 0.00922447953038335, 'reg_lambda': 485.0081609929794}. Best is trial 143 with value: 0.7970647675505321.\u001b[0m\n",
      "\u001b[32m[I 2022-02-05 17:33:46,227]\u001b[0m Trial 168 finished with value: 0.791613210317912 and parameters: {'num_leaves': 24, 'n_estimators': 150, 'learning_rate': 0.1753234080717377, 'subsample': 0.5953747381944491, 'colsample_bytree': 0.635906592809835, 'reg_alpha': 0.026045899314598626, 'reg_lambda': 314.5978968392087}. Best is trial 143 with value: 0.7970647675505321.\u001b[0m\n",
      "\u001b[32m[I 2022-02-05 17:33:49,081]\u001b[0m Trial 169 finished with value: 0.7929667336337991 and parameters: {'num_leaves': 220, 'n_estimators': 140, 'learning_rate': 0.1518304712718068, 'subsample': 0.6059297090526702, 'colsample_bytree': 0.6508880117335764, 'reg_alpha': 0.2820721886372638, 'reg_lambda': 611.7536704077178}. Best is trial 143 with value: 0.7970647675505321.\u001b[0m\n",
      "\u001b[32m[I 2022-02-05 17:33:50,290]\u001b[0m Trial 170 finished with value: 0.7881912384199662 and parameters: {'num_leaves': 14, 'n_estimators': 130, 'learning_rate': 0.16003317969480146, 'subsample': 0.6162714909954558, 'colsample_bytree': 0.6555671880931373, 'reg_alpha': 0.003991179255267728, 'reg_lambda': 0.04140792851555477}. Best is trial 143 with value: 0.7970647675505321.\u001b[0m\n",
      "\u001b[32m[I 2022-02-05 17:33:51,645]\u001b[0m Trial 171 finished with value: 0.7970192966916121 and parameters: {'num_leaves': 10, 'n_estimators': 100, 'learning_rate': 0.14694966277441593, 'subsample': 0.5870175355382765, 'colsample_bytree': 0.6192727143874035, 'reg_alpha': 0.009662572215774478, 'reg_lambda': 273.19567209379903}. Best is trial 143 with value: 0.7970647675505321.\u001b[0m\n",
      "\u001b[32m[I 2022-02-05 17:33:52,816]\u001b[0m Trial 172 finished with value: 0.7973613172207283 and parameters: {'num_leaves': 10, 'n_estimators': 80, 'learning_rate': 0.14474059393742822, 'subsample': 0.587995959743215, 'colsample_bytree': 0.6261179174164183, 'reg_alpha': 0.0063172019674682224, 'reg_lambda': 247.31578416457134}. Best is trial 172 with value: 0.7973613172207283.\u001b[0m\n",
      "\u001b[32m[I 2022-02-05 17:33:54,004]\u001b[0m Trial 173 finished with value: 0.7962987496490259 and parameters: {'num_leaves': 18, 'n_estimators': 60, 'learning_rate': 0.1337410265054768, 'subsample': 0.5730899408552723, 'colsample_bytree': 0.6230209945867556, 'reg_alpha': 0.011554189536732451, 'reg_lambda': 241.19670759922414}. Best is trial 172 with value: 0.7973613172207283.\u001b[0m\n",
      "\u001b[32m[I 2022-02-05 17:33:55,149]\u001b[0m Trial 174 finished with value: 0.7966010041334408 and parameters: {'num_leaves': 10, 'n_estimators': 80, 'learning_rate': 0.141484008336665, 'subsample': 0.5856291975474436, 'colsample_bytree': 0.6063779640874405, 'reg_alpha': 0.007159924759297813, 'reg_lambda': 698.3670544593167}. Best is trial 172 with value: 0.7973613172207283.\u001b[0m\n",
      "\u001b[32m[I 2022-02-05 17:33:56,365]\u001b[0m Trial 175 finished with value: 0.7962877264742279 and parameters: {'num_leaves': 14, 'n_estimators': 90, 'learning_rate': 0.15066102200661619, 'subsample': 0.5905831095831454, 'colsample_bytree': 0.6319573532799158, 'reg_alpha': 0.016750852880484567, 'reg_lambda': 204.45149112769056}. Best is trial 172 with value: 0.7973613172207283.\u001b[0m\n"
     ]
    },
    {
     "name": "stderr",
     "output_type": "stream",
     "text": [
      "\u001b[32m[I 2022-02-05 17:33:57,703]\u001b[0m Trial 176 finished with value: 0.7968383243374553 and parameters: {'num_leaves': 10, 'n_estimators': 100, 'learning_rate': 0.14456851863366618, 'subsample': 0.5802051209114873, 'colsample_bytree': 0.6254981759873137, 'reg_alpha': 0.00782351620663787, 'reg_lambda': 478.5915867400776}. Best is trial 172 with value: 0.7973613172207283.\u001b[0m\n",
      "\u001b[32m[I 2022-02-05 17:33:59,307]\u001b[0m Trial 177 finished with value: 0.7953911741856774 and parameters: {'num_leaves': 18, 'n_estimators': 100, 'learning_rate': 0.14293580202886788, 'subsample': 0.5651656988515592, 'colsample_bytree': 0.626767481735571, 'reg_alpha': 0.008067368433736, 'reg_lambda': 274.282573719375}. Best is trial 172 with value: 0.7973613172207283.\u001b[0m\n",
      "\u001b[32m[I 2022-02-05 17:34:00,402]\u001b[0m Trial 178 finished with value: 0.7975222279991833 and parameters: {'num_leaves': 10, 'n_estimators': 70, 'learning_rate': 0.12705135017897037, 'subsample': 0.5537182612651214, 'colsample_bytree': 0.6172950925125946, 'reg_alpha': 0.0055279478534313534, 'reg_lambda': 139.5031787266367}. Best is trial 178 with value: 0.7975222279991833.\u001b[0m\n",
      "\u001b[32m[I 2022-02-05 17:34:01,625]\u001b[0m Trial 179 finished with value: 0.7958217191304566 and parameters: {'num_leaves': 24, 'n_estimators': 60, 'learning_rate': 0.13094750559373694, 'subsample': 0.5507033428378876, 'colsample_bytree': 0.6232710512237029, 'reg_alpha': 0.005423545570462152, 'reg_lambda': 164.96952253421176}. Best is trial 178 with value: 0.7975222279991833.\u001b[0m\n",
      "\u001b[32m[I 2022-02-05 17:34:02,628]\u001b[0m Trial 180 finished with value: 0.7967450576846579 and parameters: {'num_leaves': 14, 'n_estimators': 70, 'learning_rate': 0.12335357973831823, 'subsample': 0.527458166542898, 'colsample_bytree': 0.6105290946438986, 'reg_alpha': 0.006612561614961549, 'reg_lambda': 136.54218206433367}. Best is trial 178 with value: 0.7975222279991833.\u001b[0m\n",
      "\u001b[32m[I 2022-02-05 17:34:03,855]\u001b[0m Trial 181 finished with value: 0.7973165018286427 and parameters: {'num_leaves': 10, 'n_estimators': 80, 'learning_rate': 0.14955417259767745, 'subsample': 0.5796609582969146, 'colsample_bytree': 0.6128341130185313, 'reg_alpha': 0.009715108754997051, 'reg_lambda': 354.35956811507407}. Best is trial 178 with value: 0.7975222279991833.\u001b[0m\n",
      "\u001b[32m[I 2022-02-05 17:34:05,019]\u001b[0m Trial 182 finished with value: 0.7970241332367608 and parameters: {'num_leaves': 10, 'n_estimators': 80, 'learning_rate': 0.13648674465182245, 'subsample': 0.5767717999259336, 'colsample_bytree': 0.6378223222507868, 'reg_alpha': 0.008536732950384533, 'reg_lambda': 356.8556812887939}. Best is trial 178 with value: 0.7975222279991833.\u001b[0m\n",
      "\u001b[32m[I 2022-02-05 17:34:06,308]\u001b[0m Trial 183 finished with value: 0.7962942736668748 and parameters: {'num_leaves': 18, 'n_estimators': 70, 'learning_rate': 0.13903443911093777, 'subsample': 0.5708336801464307, 'colsample_bytree': 0.6374862737383573, 'reg_alpha': 0.009766065406340937, 'reg_lambda': 316.73415213800735}. Best is trial 178 with value: 0.7975222279991833.\u001b[0m\n",
      "\u001b[32m[I 2022-02-05 17:34:07,258]\u001b[0m Trial 184 finished with value: 0.7966405491174815 and parameters: {'num_leaves': 10, 'n_estimators': 50, 'learning_rate': 0.13237470615461266, 'subsample': 0.5975773695464262, 'colsample_bytree': 0.5968941127084014, 'reg_alpha': 0.013271113010704012, 'reg_lambda': 230.435713068101}. Best is trial 178 with value: 0.7975222279991833.\u001b[0m\n",
      "\u001b[32m[I 2022-02-05 17:34:08,373]\u001b[0m Trial 185 finished with value: 0.7967896618154185 and parameters: {'num_leaves': 14, 'n_estimators': 80, 'learning_rate': 0.14736727874301023, 'subsample': 0.5629941099099056, 'colsample_bytree': 0.6374430227233293, 'reg_alpha': 0.005397252641001436, 'reg_lambda': 355.39937143218674}. Best is trial 178 with value: 0.7975222279991833.\u001b[0m\n",
      "\u001b[32m[I 2022-02-05 17:34:09,609]\u001b[0m Trial 186 finished with value: 0.7969801625933159 and parameters: {'num_leaves': 10, 'n_estimators': 90, 'learning_rate': 0.12147476081502634, 'subsample': 0.5785361123082915, 'colsample_bytree': 0.6125236043852472, 'reg_alpha': 0.010408531988079945, 'reg_lambda': 441.1838718247457}. Best is trial 178 with value: 0.7975222279991833.\u001b[0m\n",
      "\u001b[32m[I 2022-02-05 17:34:10,608]\u001b[0m Trial 187 finished with value: 0.7948736416106181 and parameters: {'num_leaves': 20, 'n_estimators': 40, 'learning_rate': 0.11268213667245322, 'subsample': 0.5535300513530459, 'colsample_bytree': 0.6134631633902609, 'reg_alpha': 0.022615653516060978, 'reg_lambda': 257.8215067830867}. Best is trial 178 with value: 0.7975222279991833.\u001b[0m\n",
      "\u001b[32m[I 2022-02-05 17:34:11,656]\u001b[0m Trial 188 finished with value: 0.7963813268875408 and parameters: {'num_leaves': 16, 'n_estimators': 70, 'learning_rate': 0.11895995817567885, 'subsample': 0.5756186663768, 'colsample_bytree': 0.6001049264394974, 'reg_alpha': 0.01128214094482708, 'reg_lambda': 66.57170281654447}. Best is trial 178 with value: 0.7975222279991833.\u001b[0m\n",
      "\u001b[32m[I 2022-02-05 17:34:12,877]\u001b[0m Trial 189 finished with value: 0.7972998331335986 and parameters: {'num_leaves': 10, 'n_estimators': 80, 'learning_rate': 0.136134052609042, 'subsample': 0.5839539324772349, 'colsample_bytree': 0.6082734150684946, 'reg_alpha': 0.015831132866787407, 'reg_lambda': 190.33528743782577}. Best is trial 178 with value: 0.7975222279991833.\u001b[0m\n",
      "\u001b[32m[I 2022-02-05 17:34:14,270]\u001b[0m Trial 190 finished with value: 0.79526342171299 and parameters: {'num_leaves': 24, 'n_estimators': 80, 'learning_rate': 0.10689811563403515, 'subsample': 0.569550220559916, 'colsample_bytree': 0.6141024001957427, 'reg_alpha': 0.014509231582264363, 'reg_lambda': 107.82669785445299}. Best is trial 178 with value: 0.7975222279991833.\u001b[0m\n",
      "\u001b[32m[I 2022-02-05 17:34:15,333]\u001b[0m Trial 191 finished with value: 0.7971652277354532 and parameters: {'num_leaves': 10, 'n_estimators': 60, 'learning_rate': 0.1252031876118026, 'subsample': 0.580592299094269, 'colsample_bytree': 0.6042900801950887, 'reg_alpha': 0.009640922499078736, 'reg_lambda': 181.07301791630027}. Best is trial 178 with value: 0.7975222279991833.\u001b[0m\n",
      "\u001b[32m[I 2022-02-05 17:34:16,349]\u001b[0m Trial 192 finished with value: 0.797452836390381 and parameters: {'num_leaves': 10, 'n_estimators': 60, 'learning_rate': 0.12770290788190888, 'subsample': 0.5831526212194349, 'colsample_bytree': 0.6074572319952793, 'reg_alpha': 0.017885996335636273, 'reg_lambda': 183.32358176665642}. Best is trial 178 with value: 0.7975222279991833.\u001b[0m\n",
      "\u001b[32m[I 2022-02-05 17:34:17,218]\u001b[0m Trial 193 finished with value: 0.7968232543506801 and parameters: {'num_leaves': 14, 'n_estimators': 50, 'learning_rate': 0.12518971873754595, 'subsample': 0.5799425229799893, 'colsample_bytree': 0.6080816441775073, 'reg_alpha': 0.018430815107022137, 'reg_lambda': 138.486439164368}. Best is trial 178 with value: 0.7975222279991833.\u001b[0m\n",
      "\u001b[32m[I 2022-02-05 17:34:18,249]\u001b[0m Trial 194 finished with value: 0.797240717509435 and parameters: {'num_leaves': 10, 'n_estimators': 60, 'learning_rate': 0.12990838058470208, 'subsample': 0.5851122720015884, 'colsample_bytree': 0.5922731631734872, 'reg_alpha': 0.008762860227310038, 'reg_lambda': 87.86389521386403}. Best is trial 178 with value: 0.7975222279991833.\u001b[0m\n",
      "\u001b[32m[I 2022-02-05 17:34:19,444]\u001b[0m Trial 195 finished with value: 0.7960451592581173 and parameters: {'num_leaves': 18, 'n_estimators': 60, 'learning_rate': 0.1279933701968256, 'subsample': 0.585370698508648, 'colsample_bytree': 0.5925262578850234, 'reg_alpha': 0.015329006221937135, 'reg_lambda': 88.99258289873289}. Best is trial 178 with value: 0.7975222279991833.\u001b[0m\n",
      "\u001b[32m[I 2022-02-05 17:34:20,105]\u001b[0m Trial 196 finished with value: 0.7930901659386679 and parameters: {'num_leaves': 10, 'n_estimators': 20, 'learning_rate': 0.12466187870972618, 'subsample': 0.5934813810208468, 'colsample_bytree': 0.6002099994103333, 'reg_alpha': 0.007581310843478861, 'reg_lambda': 183.85328901569056}. Best is trial 178 with value: 0.7975222279991833.\u001b[0m\n",
      "\u001b[32m[I 2022-02-05 17:34:20,910]\u001b[0m Trial 197 finished with value: 0.7965341382159924 and parameters: {'num_leaves': 14, 'n_estimators': 40, 'learning_rate': 0.11861805155620986, 'subsample': 0.5804689364822935, 'colsample_bytree': 0.6179681031961204, 'reg_alpha': 0.008996407728424104, 'reg_lambda': 110.88381420233492}. Best is trial 178 with value: 0.7975222279991833.\u001b[0m\n"
     ]
    },
    {
     "name": "stderr",
     "output_type": "stream",
     "text": [
      "\u001b[32m[I 2022-02-05 17:34:22,151]\u001b[0m Trial 198 finished with value: 0.795108741633382 and parameters: {'num_leaves': 20, 'n_estimators': 70, 'learning_rate': 0.13468003595476788, 'subsample': 0.5633675178210479, 'colsample_bytree': 0.6054762733334642, 'reg_alpha': 0.012318073078140994, 'reg_lambda': 55.576165511244916}. Best is trial 178 with value: 0.7975222279991833.\u001b[0m\n",
      "\u001b[32m[I 2022-02-05 17:34:23,297]\u001b[0m Trial 199 finished with value: 0.7974424787400252 and parameters: {'num_leaves': 10, 'n_estimators': 70, 'learning_rate': 0.13632981526803228, 'subsample': 0.6002669436274147, 'colsample_bytree': 0.6211003388064682, 'reg_alpha': 0.021783021226793094, 'reg_lambda': 166.4777832399227}. Best is trial 178 with value: 0.7975222279991833.\u001b[0m\n"
     ]
    }
   ],
   "source": [
    "study = optuna.create_study(direction='maximize', sampler=optuna.samplers.TPESampler(seed=42))\n",
    "study.optimize(hyperopt_objective, n_trials=200)"
   ]
  },
  {
   "cell_type": "code",
   "execution_count": 217,
   "metadata": {},
   "outputs": [],
   "source": [
    "clf_final = init_clf(**study.best_trial.params)"
   ]
  },
  {
   "cell_type": "code",
   "execution_count": 218,
   "metadata": {},
   "outputs": [
    {
     "data": {
      "text/plain": [
       "LGBMClassifier(colsample_bytree=0.6172950925125946,\n",
       "               learning_rate=0.12705135017897037, n_estimators=70,\n",
       "               num_leaves=10, random_state=42, reg_alpha=0.0055279478534313534,\n",
       "               reg_lambda=139.5031787266367, subsample=0.5537182612651214,\n",
       "               subsample_freq=10)"
      ]
     },
     "execution_count": 218,
     "metadata": {},
     "output_type": "execute_result"
    }
   ],
   "source": [
    "clf_final"
   ]
  },
  {
   "cell_type": "code",
   "execution_count": 219,
   "metadata": {},
   "outputs": [
    {
     "data": {
      "text/plain": [
       "{'fit_time': array([0.45687652, 0.41079926, 0.43187118, 0.42687678, 0.40379596,\n",
       "        0.41486883, 0.41987038, 0.42386818, 0.43586802, 0.44187284]),\n",
       " 'score_time': array([0.01900291, 0.01900387, 0.02600455, 0.02100158, 0.02607656,\n",
       "        0.02000451, 0.02600336, 0.02600551, 0.02700567, 0.02700543]),\n",
       " 'test_score': array([0.80571853, 0.80659893, 0.81440845, 0.79693456, 0.80425872,\n",
       "        0.8070364 , 0.79622433, 0.79342016, 0.80443346, 0.80072538]),\n",
       " 'train_score': array([0.80696913, 0.80646585, 0.80583217, 0.80744384, 0.80700856,\n",
       "        0.80605807, 0.80792608, 0.80813505, 0.80674645, 0.80739276])}"
      ]
     },
     "execution_count": 219,
     "metadata": {},
     "output_type": "execute_result"
    }
   ],
   "source": [
    "cv_results = cross_validate(clf_final, X_train, y_train, \n",
    "    cv=StratifiedKFold(10, shuffle=True, random_state=42),\n",
    "    scoring=make_scorer(roc_auc_score, needs_proba=True), # (!) needs_proba=True is crucial here\n",
    "    return_train_score=True, \n",
    "    n_jobs=-1)\n",
    "cv_results"
   ]
  },
  {
   "cell_type": "code",
   "execution_count": 220,
   "metadata": {},
   "outputs": [
    {
     "data": {
      "text/plain": [
       "LGBMClassifier(colsample_bytree=0.6172950925125946,\n",
       "               learning_rate=0.12705135017897037, n_estimators=70,\n",
       "               num_leaves=10, random_state=42, reg_alpha=0.0055279478534313534,\n",
       "               reg_lambda=139.5031787266367, subsample=0.5537182612651214,\n",
       "               subsample_freq=10)"
      ]
     },
     "execution_count": 220,
     "metadata": {},
     "output_type": "execute_result"
    }
   ],
   "source": [
    "clf_final.fit(X_train, y_train)"
   ]
  },
  {
   "cell_type": "code",
   "execution_count": 221,
   "metadata": {},
   "outputs": [
    {
     "data": {
      "text/plain": [
       "0.7991952715739662"
      ]
     },
     "execution_count": 221,
     "metadata": {},
     "output_type": "execute_result"
    }
   ],
   "source": [
    "roc_auc_score(y_test, clf_final.predict_proba(X_test)[:, 1])"
   ]
  },
  {
   "cell_type": "code",
   "execution_count": null,
   "metadata": {},
   "outputs": [],
   "source": []
  },
  {
   "cell_type": "code",
   "execution_count": null,
   "metadata": {},
   "outputs": [],
   "source": []
  }
 ],
 "metadata": {
  "kernelspec": {
   "display_name": "Python 3",
   "language": "python",
   "name": "python3"
  },
  "language_info": {
   "codemirror_mode": {
    "name": "ipython",
    "version": 3
   },
   "file_extension": ".py",
   "mimetype": "text/x-python",
   "name": "python",
   "nbconvert_exporter": "python",
   "pygments_lexer": "ipython3",
   "version": "3.8.5"
  }
 },
 "nbformat": 4,
 "nbformat_minor": 4
}
